{
  "nbformat": 4,
  "nbformat_minor": 0,
  "metadata": {
    "colab": {
      "name": "ML 과제.ipynb",
      "provenance": [],
      "collapsed_sections": [],
      "include_colab_link": true
    },
    "kernelspec": {
      "display_name": "Python 3",
      "language": "python",
      "name": "python3"
    },
    "language_info": {
      "codemirror_mode": {
        "name": "ipython",
        "version": 3
      },
      "file_extension": ".py",
      "mimetype": "text/x-python",
      "name": "python",
      "nbconvert_exporter": "python",
      "pygments_lexer": "ipython3",
      "version": "3.7.7"
    }
  },
  "cells": [
    {
      "cell_type": "markdown",
      "metadata": {
        "id": "view-in-github",
        "colab_type": "text"
      },
      "source": [
        "<a href=\"https://colab.research.google.com/github/Yoojin730/YBIGTA/blob/master/ML_%EA%B3%BC%EC%A0%9C.ipynb\" target=\"_parent\"><img src=\"https://colab.research.google.com/assets/colab-badge.svg\" alt=\"Open In Colab\"/></a>"
      ]
    },
    {
      "cell_type": "markdown",
      "metadata": {
        "id": "UHXEXVGBRKVV"
      },
      "source": [
        "## ML 과제"
      ]
    },
    {
      "cell_type": "code",
      "metadata": {
        "id": "BqbMWhW4RKVe"
      },
      "source": [
        "import pandas as pd\n",
        "import numpy as np\n",
        "import warnings\n",
        "warnings.filterwarnings(action='ignore')"
      ],
      "execution_count": 3,
      "outputs": []
    },
    {
      "cell_type": "code",
      "metadata": {
        "colab": {
          "base_uri": "https://localhost:8080/"
        },
        "id": "OpRarP6gwyq2",
        "outputId": "241d1517-4465-401a-f6c5-ea84fdc30e85"
      },
      "source": [
        "from google.colab import drive\r\n",
        "drive.mount('/content/gdrive')"
      ],
      "execution_count": 4,
      "outputs": [
        {
          "output_type": "stream",
          "text": [
            "Mounted at /content/gdrive\n"
          ],
          "name": "stdout"
        }
      ]
    },
    {
      "cell_type": "markdown",
      "metadata": {
        "id": "Ui_F4tZHRKVk"
      },
      "source": [
        "### 0. Titanic 데이터 로드 및 훓어보기"
      ]
    },
    {
      "cell_type": "code",
      "metadata": {
        "id": "L3wf-RkBRKVl",
        "colab": {
          "base_uri": "https://localhost:8080/",
          "height": 204
        },
        "outputId": "f23e1b2a-3ba9-4e76-afd8-cca8f19f6dd2"
      },
      "source": [
        "# 여러분이 이전 과제로 만드셨을 FE를 진행한 데이터 보다는 원본 데이터가 조금 더 이번 실습에 적합하기 때문에 원본을 사용하겠습니다.\n",
        "# 데이터를 로드하고, 잘 불러와진 것인지 첫 5행을 불러와 확인해보세요.\n",
        "\n",
        "titanic = pd.read_csv('/content/gdrive/MyDrive/YBIGTA/2021. 1. 26 (화) ML 심화/과제/titanic.csv')\n",
        "titanic.head()"
      ],
      "execution_count": 21,
      "outputs": [
        {
          "output_type": "execute_result",
          "data": {
            "text/html": [
              "<div>\n",
              "<style scoped>\n",
              "    .dataframe tbody tr th:only-of-type {\n",
              "        vertical-align: middle;\n",
              "    }\n",
              "\n",
              "    .dataframe tbody tr th {\n",
              "        vertical-align: top;\n",
              "    }\n",
              "\n",
              "    .dataframe thead th {\n",
              "        text-align: right;\n",
              "    }\n",
              "</style>\n",
              "<table border=\"1\" class=\"dataframe\">\n",
              "  <thead>\n",
              "    <tr style=\"text-align: right;\">\n",
              "      <th></th>\n",
              "      <th>PassengerId</th>\n",
              "      <th>Survived</th>\n",
              "      <th>Pclass</th>\n",
              "      <th>Name</th>\n",
              "      <th>Sex</th>\n",
              "      <th>Age</th>\n",
              "      <th>SibSp</th>\n",
              "      <th>Parch</th>\n",
              "      <th>Ticket</th>\n",
              "      <th>Fare</th>\n",
              "      <th>Cabin</th>\n",
              "      <th>Embarked</th>\n",
              "    </tr>\n",
              "  </thead>\n",
              "  <tbody>\n",
              "    <tr>\n",
              "      <th>0</th>\n",
              "      <td>1</td>\n",
              "      <td>0</td>\n",
              "      <td>3</td>\n",
              "      <td>Braund, Mr. Owen Harris</td>\n",
              "      <td>male</td>\n",
              "      <td>22.0</td>\n",
              "      <td>1</td>\n",
              "      <td>0</td>\n",
              "      <td>A/5 21171</td>\n",
              "      <td>7.2500</td>\n",
              "      <td>NaN</td>\n",
              "      <td>S</td>\n",
              "    </tr>\n",
              "    <tr>\n",
              "      <th>1</th>\n",
              "      <td>2</td>\n",
              "      <td>1</td>\n",
              "      <td>1</td>\n",
              "      <td>Cumings, Mrs. John Bradley (Florence Briggs Th...</td>\n",
              "      <td>female</td>\n",
              "      <td>38.0</td>\n",
              "      <td>1</td>\n",
              "      <td>0</td>\n",
              "      <td>PC 17599</td>\n",
              "      <td>71.2833</td>\n",
              "      <td>C85</td>\n",
              "      <td>C</td>\n",
              "    </tr>\n",
              "    <tr>\n",
              "      <th>2</th>\n",
              "      <td>3</td>\n",
              "      <td>1</td>\n",
              "      <td>3</td>\n",
              "      <td>Heikkinen, Miss. Laina</td>\n",
              "      <td>female</td>\n",
              "      <td>26.0</td>\n",
              "      <td>0</td>\n",
              "      <td>0</td>\n",
              "      <td>STON/O2. 3101282</td>\n",
              "      <td>7.9250</td>\n",
              "      <td>NaN</td>\n",
              "      <td>S</td>\n",
              "    </tr>\n",
              "    <tr>\n",
              "      <th>3</th>\n",
              "      <td>4</td>\n",
              "      <td>1</td>\n",
              "      <td>1</td>\n",
              "      <td>Futrelle, Mrs. Jacques Heath (Lily May Peel)</td>\n",
              "      <td>female</td>\n",
              "      <td>35.0</td>\n",
              "      <td>1</td>\n",
              "      <td>0</td>\n",
              "      <td>113803</td>\n",
              "      <td>53.1000</td>\n",
              "      <td>C123</td>\n",
              "      <td>S</td>\n",
              "    </tr>\n",
              "    <tr>\n",
              "      <th>4</th>\n",
              "      <td>5</td>\n",
              "      <td>0</td>\n",
              "      <td>3</td>\n",
              "      <td>Allen, Mr. William Henry</td>\n",
              "      <td>male</td>\n",
              "      <td>35.0</td>\n",
              "      <td>0</td>\n",
              "      <td>0</td>\n",
              "      <td>373450</td>\n",
              "      <td>8.0500</td>\n",
              "      <td>NaN</td>\n",
              "      <td>S</td>\n",
              "    </tr>\n",
              "  </tbody>\n",
              "</table>\n",
              "</div>"
            ],
            "text/plain": [
              "   PassengerId  Survived  Pclass  ...     Fare Cabin  Embarked\n",
              "0            1         0       3  ...   7.2500   NaN         S\n",
              "1            2         1       1  ...  71.2833   C85         C\n",
              "2            3         1       3  ...   7.9250   NaN         S\n",
              "3            4         1       1  ...  53.1000  C123         S\n",
              "4            5         0       3  ...   8.0500   NaN         S\n",
              "\n",
              "[5 rows x 12 columns]"
            ]
          },
          "metadata": {
            "tags": []
          },
          "execution_count": 21
        }
      ]
    },
    {
      "cell_type": "code",
      "metadata": {
        "id": "SJqFSXyERKVp",
        "colab": {
          "base_uri": "https://localhost:8080/"
        },
        "outputId": "3f7a07de-2200-43a3-df61-e13ef9462fd7"
      },
      "source": [
        "# 데이터 타입\n",
        "titanic.dtypes"
      ],
      "execution_count": 6,
      "outputs": [
        {
          "output_type": "execute_result",
          "data": {
            "text/plain": [
              "PassengerId      int64\n",
              "Survived         int64\n",
              "Pclass           int64\n",
              "Name            object\n",
              "Sex             object\n",
              "Age            float64\n",
              "SibSp            int64\n",
              "Parch            int64\n",
              "Ticket          object\n",
              "Fare           float64\n",
              "Cabin           object\n",
              "Embarked        object\n",
              "dtype: object"
            ]
          },
          "metadata": {
            "tags": []
          },
          "execution_count": 6
        }
      ]
    },
    {
      "cell_type": "code",
      "metadata": {
        "colab": {
          "base_uri": "https://localhost:8080/"
        },
        "id": "fhauWndy0Lg5",
        "outputId": "422aa52d-4049-4b2f-af32-0c3b3c2a0d02"
      },
      "source": [
        "#결측치\r\n",
        "titanic.isnull().sum()"
      ],
      "execution_count": 22,
      "outputs": [
        {
          "output_type": "execute_result",
          "data": {
            "text/plain": [
              "PassengerId      0\n",
              "Survived         0\n",
              "Pclass           0\n",
              "Name             0\n",
              "Sex              0\n",
              "Age            177\n",
              "SibSp            0\n",
              "Parch            0\n",
              "Ticket           0\n",
              "Fare             0\n",
              "Cabin          687\n",
              "Embarked         2\n",
              "dtype: int64"
            ]
          },
          "metadata": {
            "tags": []
          },
          "execution_count": 22
        }
      ]
    },
    {
      "cell_type": "code",
      "metadata": {
        "colab": {
          "base_uri": "https://localhost:8080/"
        },
        "id": "Ox3dxHlc0LrN",
        "outputId": "df1d60c0-c480-4815-991e-abcc2002c9ef"
      },
      "source": [
        "#target의 imbalance 여부를 확인\r\n",
        "titanic.groupby('Survived').size()"
      ],
      "execution_count": 23,
      "outputs": [
        {
          "output_type": "execute_result",
          "data": {
            "text/plain": [
              "Survived\n",
              "0    549\n",
              "1    342\n",
              "dtype: int64"
            ]
          },
          "metadata": {
            "tags": []
          },
          "execution_count": 23
        }
      ]
    },
    {
      "cell_type": "code",
      "metadata": {
        "id": "5MwchtwcLdKT"
      },
      "source": [
        "titanic = titanic.dropna(axis = 0)"
      ],
      "execution_count": 24,
      "outputs": []
    },
    {
      "cell_type": "code",
      "metadata": {
        "id": "JHku_wldRKVw"
      },
      "source": [
        "# 편의상 결측치 데이터 및 승객 고유의 데이터('PassengerId','Name', 'Ticket', 'Cabin')는 모두 drop 시킵시다.\n",
        "# 실제 프로젝트에서는 이렇게 하시면 성능이 낮을 수 있어요!!\n",
        "\n",
        "titanic.drop(['PassengerId','Name', 'Ticket', 'Cabin'],axis=1,inplace=True)"
      ],
      "execution_count": 25,
      "outputs": []
    },
    {
      "cell_type": "code",
      "metadata": {
        "colab": {
          "base_uri": "https://localhost:8080/",
          "height": 419
        },
        "id": "YzxOFLox6Sak",
        "outputId": "5543d24b-d79a-4cca-bbc2-3d96182c82f0"
      },
      "source": [
        "titanic"
      ],
      "execution_count": 26,
      "outputs": [
        {
          "output_type": "execute_result",
          "data": {
            "text/html": [
              "<div>\n",
              "<style scoped>\n",
              "    .dataframe tbody tr th:only-of-type {\n",
              "        vertical-align: middle;\n",
              "    }\n",
              "\n",
              "    .dataframe tbody tr th {\n",
              "        vertical-align: top;\n",
              "    }\n",
              "\n",
              "    .dataframe thead th {\n",
              "        text-align: right;\n",
              "    }\n",
              "</style>\n",
              "<table border=\"1\" class=\"dataframe\">\n",
              "  <thead>\n",
              "    <tr style=\"text-align: right;\">\n",
              "      <th></th>\n",
              "      <th>Survived</th>\n",
              "      <th>Pclass</th>\n",
              "      <th>Sex</th>\n",
              "      <th>Age</th>\n",
              "      <th>SibSp</th>\n",
              "      <th>Parch</th>\n",
              "      <th>Fare</th>\n",
              "      <th>Embarked</th>\n",
              "    </tr>\n",
              "  </thead>\n",
              "  <tbody>\n",
              "    <tr>\n",
              "      <th>1</th>\n",
              "      <td>1</td>\n",
              "      <td>1</td>\n",
              "      <td>female</td>\n",
              "      <td>38.0</td>\n",
              "      <td>1</td>\n",
              "      <td>0</td>\n",
              "      <td>71.2833</td>\n",
              "      <td>C</td>\n",
              "    </tr>\n",
              "    <tr>\n",
              "      <th>3</th>\n",
              "      <td>1</td>\n",
              "      <td>1</td>\n",
              "      <td>female</td>\n",
              "      <td>35.0</td>\n",
              "      <td>1</td>\n",
              "      <td>0</td>\n",
              "      <td>53.1000</td>\n",
              "      <td>S</td>\n",
              "    </tr>\n",
              "    <tr>\n",
              "      <th>6</th>\n",
              "      <td>0</td>\n",
              "      <td>1</td>\n",
              "      <td>male</td>\n",
              "      <td>54.0</td>\n",
              "      <td>0</td>\n",
              "      <td>0</td>\n",
              "      <td>51.8625</td>\n",
              "      <td>S</td>\n",
              "    </tr>\n",
              "    <tr>\n",
              "      <th>10</th>\n",
              "      <td>1</td>\n",
              "      <td>3</td>\n",
              "      <td>female</td>\n",
              "      <td>4.0</td>\n",
              "      <td>1</td>\n",
              "      <td>1</td>\n",
              "      <td>16.7000</td>\n",
              "      <td>S</td>\n",
              "    </tr>\n",
              "    <tr>\n",
              "      <th>11</th>\n",
              "      <td>1</td>\n",
              "      <td>1</td>\n",
              "      <td>female</td>\n",
              "      <td>58.0</td>\n",
              "      <td>0</td>\n",
              "      <td>0</td>\n",
              "      <td>26.5500</td>\n",
              "      <td>S</td>\n",
              "    </tr>\n",
              "    <tr>\n",
              "      <th>...</th>\n",
              "      <td>...</td>\n",
              "      <td>...</td>\n",
              "      <td>...</td>\n",
              "      <td>...</td>\n",
              "      <td>...</td>\n",
              "      <td>...</td>\n",
              "      <td>...</td>\n",
              "      <td>...</td>\n",
              "    </tr>\n",
              "    <tr>\n",
              "      <th>871</th>\n",
              "      <td>1</td>\n",
              "      <td>1</td>\n",
              "      <td>female</td>\n",
              "      <td>47.0</td>\n",
              "      <td>1</td>\n",
              "      <td>1</td>\n",
              "      <td>52.5542</td>\n",
              "      <td>S</td>\n",
              "    </tr>\n",
              "    <tr>\n",
              "      <th>872</th>\n",
              "      <td>0</td>\n",
              "      <td>1</td>\n",
              "      <td>male</td>\n",
              "      <td>33.0</td>\n",
              "      <td>0</td>\n",
              "      <td>0</td>\n",
              "      <td>5.0000</td>\n",
              "      <td>S</td>\n",
              "    </tr>\n",
              "    <tr>\n",
              "      <th>879</th>\n",
              "      <td>1</td>\n",
              "      <td>1</td>\n",
              "      <td>female</td>\n",
              "      <td>56.0</td>\n",
              "      <td>0</td>\n",
              "      <td>1</td>\n",
              "      <td>83.1583</td>\n",
              "      <td>C</td>\n",
              "    </tr>\n",
              "    <tr>\n",
              "      <th>887</th>\n",
              "      <td>1</td>\n",
              "      <td>1</td>\n",
              "      <td>female</td>\n",
              "      <td>19.0</td>\n",
              "      <td>0</td>\n",
              "      <td>0</td>\n",
              "      <td>30.0000</td>\n",
              "      <td>S</td>\n",
              "    </tr>\n",
              "    <tr>\n",
              "      <th>889</th>\n",
              "      <td>1</td>\n",
              "      <td>1</td>\n",
              "      <td>male</td>\n",
              "      <td>26.0</td>\n",
              "      <td>0</td>\n",
              "      <td>0</td>\n",
              "      <td>30.0000</td>\n",
              "      <td>C</td>\n",
              "    </tr>\n",
              "  </tbody>\n",
              "</table>\n",
              "<p>183 rows × 8 columns</p>\n",
              "</div>"
            ],
            "text/plain": [
              "     Survived  Pclass     Sex   Age  SibSp  Parch     Fare Embarked\n",
              "1           1       1  female  38.0      1      0  71.2833        C\n",
              "3           1       1  female  35.0      1      0  53.1000        S\n",
              "6           0       1    male  54.0      0      0  51.8625        S\n",
              "10          1       3  female   4.0      1      1  16.7000        S\n",
              "11          1       1  female  58.0      0      0  26.5500        S\n",
              "..        ...     ...     ...   ...    ...    ...      ...      ...\n",
              "871         1       1  female  47.0      1      1  52.5542        S\n",
              "872         0       1    male  33.0      0      0   5.0000        S\n",
              "879         1       1  female  56.0      0      1  83.1583        C\n",
              "887         1       1  female  19.0      0      0  30.0000        S\n",
              "889         1       1    male  26.0      0      0  30.0000        C\n",
              "\n",
              "[183 rows x 8 columns]"
            ]
          },
          "metadata": {
            "tags": []
          },
          "execution_count": 26
        }
      ]
    },
    {
      "cell_type": "code",
      "metadata": {
        "colab": {
          "base_uri": "https://localhost:8080/"
        },
        "id": "gfwiefgm5fV4",
        "outputId": "2a31388e-664f-41cd-acfa-1ff2ef5fb512"
      },
      "source": [
        "titanic['Sex'].unique()"
      ],
      "execution_count": 27,
      "outputs": [
        {
          "output_type": "execute_result",
          "data": {
            "text/plain": [
              "array(['female', 'male'], dtype=object)"
            ]
          },
          "metadata": {
            "tags": []
          },
          "execution_count": 27
        }
      ]
    },
    {
      "cell_type": "code",
      "metadata": {
        "colab": {
          "base_uri": "https://localhost:8080/"
        },
        "id": "gEEpH2C55lIz",
        "outputId": "7e27c57d-c576-49f6-ed34-fa9058a8fe6c"
      },
      "source": [
        "titanic['Embarked'].unique()"
      ],
      "execution_count": 28,
      "outputs": [
        {
          "output_type": "execute_result",
          "data": {
            "text/plain": [
              "array(['C', 'S', 'Q'], dtype=object)"
            ]
          },
          "metadata": {
            "tags": []
          },
          "execution_count": 28
        }
      ]
    },
    {
      "cell_type": "code",
      "metadata": {
        "id": "Ow3xzO2DRKV0",
        "colab": {
          "base_uri": "https://localhost:8080/",
          "height": 204
        },
        "outputId": "774ebb6f-9616-47b4-f483-bb45a66d2349"
      },
      "source": [
        "# categorical feature(Sex, Embarked)에 대해 LabelEncoding을 진행해 주세요.\n",
        "# 전처리 완료된 DataFrame을 첫 5행을 불러와 확인해보세요\n",
        "\n",
        "titanic['Sex'] = titanic['Sex'].map({'male':1,'female':0})\n",
        "titanic.head()"
      ],
      "execution_count": 29,
      "outputs": [
        {
          "output_type": "execute_result",
          "data": {
            "text/html": [
              "<div>\n",
              "<style scoped>\n",
              "    .dataframe tbody tr th:only-of-type {\n",
              "        vertical-align: middle;\n",
              "    }\n",
              "\n",
              "    .dataframe tbody tr th {\n",
              "        vertical-align: top;\n",
              "    }\n",
              "\n",
              "    .dataframe thead th {\n",
              "        text-align: right;\n",
              "    }\n",
              "</style>\n",
              "<table border=\"1\" class=\"dataframe\">\n",
              "  <thead>\n",
              "    <tr style=\"text-align: right;\">\n",
              "      <th></th>\n",
              "      <th>Survived</th>\n",
              "      <th>Pclass</th>\n",
              "      <th>Sex</th>\n",
              "      <th>Age</th>\n",
              "      <th>SibSp</th>\n",
              "      <th>Parch</th>\n",
              "      <th>Fare</th>\n",
              "      <th>Embarked</th>\n",
              "    </tr>\n",
              "  </thead>\n",
              "  <tbody>\n",
              "    <tr>\n",
              "      <th>1</th>\n",
              "      <td>1</td>\n",
              "      <td>1</td>\n",
              "      <td>0</td>\n",
              "      <td>38.0</td>\n",
              "      <td>1</td>\n",
              "      <td>0</td>\n",
              "      <td>71.2833</td>\n",
              "      <td>C</td>\n",
              "    </tr>\n",
              "    <tr>\n",
              "      <th>3</th>\n",
              "      <td>1</td>\n",
              "      <td>1</td>\n",
              "      <td>0</td>\n",
              "      <td>35.0</td>\n",
              "      <td>1</td>\n",
              "      <td>0</td>\n",
              "      <td>53.1000</td>\n",
              "      <td>S</td>\n",
              "    </tr>\n",
              "    <tr>\n",
              "      <th>6</th>\n",
              "      <td>0</td>\n",
              "      <td>1</td>\n",
              "      <td>1</td>\n",
              "      <td>54.0</td>\n",
              "      <td>0</td>\n",
              "      <td>0</td>\n",
              "      <td>51.8625</td>\n",
              "      <td>S</td>\n",
              "    </tr>\n",
              "    <tr>\n",
              "      <th>10</th>\n",
              "      <td>1</td>\n",
              "      <td>3</td>\n",
              "      <td>0</td>\n",
              "      <td>4.0</td>\n",
              "      <td>1</td>\n",
              "      <td>1</td>\n",
              "      <td>16.7000</td>\n",
              "      <td>S</td>\n",
              "    </tr>\n",
              "    <tr>\n",
              "      <th>11</th>\n",
              "      <td>1</td>\n",
              "      <td>1</td>\n",
              "      <td>0</td>\n",
              "      <td>58.0</td>\n",
              "      <td>0</td>\n",
              "      <td>0</td>\n",
              "      <td>26.5500</td>\n",
              "      <td>S</td>\n",
              "    </tr>\n",
              "  </tbody>\n",
              "</table>\n",
              "</div>"
            ],
            "text/plain": [
              "    Survived  Pclass  Sex   Age  SibSp  Parch     Fare Embarked\n",
              "1          1       1    0  38.0      1      0  71.2833        C\n",
              "3          1       1    0  35.0      1      0  53.1000        S\n",
              "6          0       1    1  54.0      0      0  51.8625        S\n",
              "10         1       3    0   4.0      1      1  16.7000        S\n",
              "11         1       1    0  58.0      0      0  26.5500        S"
            ]
          },
          "metadata": {
            "tags": []
          },
          "execution_count": 29
        }
      ]
    },
    {
      "cell_type": "code",
      "metadata": {
        "colab": {
          "base_uri": "https://localhost:8080/",
          "height": 204
        },
        "id": "ZI3eRmwT6emF",
        "outputId": "4714f4b6-e21a-42a5-9a48-ad3be2e3733a"
      },
      "source": [
        "titanic['Embarked'] = titanic['Embarked'].map({'C':0,'Q':1,'S':2})\r\n",
        "titanic.head()"
      ],
      "execution_count": 30,
      "outputs": [
        {
          "output_type": "execute_result",
          "data": {
            "text/html": [
              "<div>\n",
              "<style scoped>\n",
              "    .dataframe tbody tr th:only-of-type {\n",
              "        vertical-align: middle;\n",
              "    }\n",
              "\n",
              "    .dataframe tbody tr th {\n",
              "        vertical-align: top;\n",
              "    }\n",
              "\n",
              "    .dataframe thead th {\n",
              "        text-align: right;\n",
              "    }\n",
              "</style>\n",
              "<table border=\"1\" class=\"dataframe\">\n",
              "  <thead>\n",
              "    <tr style=\"text-align: right;\">\n",
              "      <th></th>\n",
              "      <th>Survived</th>\n",
              "      <th>Pclass</th>\n",
              "      <th>Sex</th>\n",
              "      <th>Age</th>\n",
              "      <th>SibSp</th>\n",
              "      <th>Parch</th>\n",
              "      <th>Fare</th>\n",
              "      <th>Embarked</th>\n",
              "    </tr>\n",
              "  </thead>\n",
              "  <tbody>\n",
              "    <tr>\n",
              "      <th>1</th>\n",
              "      <td>1</td>\n",
              "      <td>1</td>\n",
              "      <td>0</td>\n",
              "      <td>38.0</td>\n",
              "      <td>1</td>\n",
              "      <td>0</td>\n",
              "      <td>71.2833</td>\n",
              "      <td>0</td>\n",
              "    </tr>\n",
              "    <tr>\n",
              "      <th>3</th>\n",
              "      <td>1</td>\n",
              "      <td>1</td>\n",
              "      <td>0</td>\n",
              "      <td>35.0</td>\n",
              "      <td>1</td>\n",
              "      <td>0</td>\n",
              "      <td>53.1000</td>\n",
              "      <td>2</td>\n",
              "    </tr>\n",
              "    <tr>\n",
              "      <th>6</th>\n",
              "      <td>0</td>\n",
              "      <td>1</td>\n",
              "      <td>1</td>\n",
              "      <td>54.0</td>\n",
              "      <td>0</td>\n",
              "      <td>0</td>\n",
              "      <td>51.8625</td>\n",
              "      <td>2</td>\n",
              "    </tr>\n",
              "    <tr>\n",
              "      <th>10</th>\n",
              "      <td>1</td>\n",
              "      <td>3</td>\n",
              "      <td>0</td>\n",
              "      <td>4.0</td>\n",
              "      <td>1</td>\n",
              "      <td>1</td>\n",
              "      <td>16.7000</td>\n",
              "      <td>2</td>\n",
              "    </tr>\n",
              "    <tr>\n",
              "      <th>11</th>\n",
              "      <td>1</td>\n",
              "      <td>1</td>\n",
              "      <td>0</td>\n",
              "      <td>58.0</td>\n",
              "      <td>0</td>\n",
              "      <td>0</td>\n",
              "      <td>26.5500</td>\n",
              "      <td>2</td>\n",
              "    </tr>\n",
              "  </tbody>\n",
              "</table>\n",
              "</div>"
            ],
            "text/plain": [
              "    Survived  Pclass  Sex   Age  SibSp  Parch     Fare  Embarked\n",
              "1          1       1    0  38.0      1      0  71.2833         0\n",
              "3          1       1    0  35.0      1      0  53.1000         2\n",
              "6          0       1    1  54.0      0      0  51.8625         2\n",
              "10         1       3    0   4.0      1      1  16.7000         2\n",
              "11         1       1    0  58.0      0      0  26.5500         2"
            ]
          },
          "metadata": {
            "tags": []
          },
          "execution_count": 30
        }
      ]
    },
    {
      "cell_type": "markdown",
      "metadata": {
        "id": "WEZOz8TzRKV7"
      },
      "source": [
        "### 1. Train-Test split & 종속변수-설명변수 분할"
      ]
    },
    {
      "cell_type": "code",
      "metadata": {
        "id": "WCAxi_V-RKV_"
      },
      "source": [
        "# 분할을 위해 필요한 적절한 패키지를 불러와주세요 \n",
        "from sklearn.model_selection import train_test_split\n",
        "from sklearn.tree import DecisionTreeClassifier"
      ],
      "execution_count": 31,
      "outputs": []
    },
    {
      "cell_type": "code",
      "metadata": {
        "id": "z9ucZjIt7aqe"
      },
      "source": [
        "# train-test split 및 종속변수-설명변수 분할을 진행해주세요\r\n",
        "\r\n",
        "y = titanic.Survived\r\n",
        "X = titanic.drop('Survived', axis = 1)\r\n",
        "\r\n",
        "X_train, X_test, y_train, y_test = train_test_split(X, y, test_size = 0.2, random_state = 42) "
      ],
      "execution_count": 37,
      "outputs": []
    },
    {
      "cell_type": "markdown",
      "metadata": {
        "id": "iSUYhG2jRKWD"
      },
      "source": [
        "### 2. Decision Tree를 통한 Classification"
      ]
    },
    {
      "cell_type": "code",
      "metadata": {
        "id": "uBl4sGU4RKWF"
      },
      "source": [
        "# Decision Tree에서 categorical feature인 'Pclass'를 기준으로 첫 번째 Node(Root Node)가 분리된다고 가정합시다.\n",
        "# 이 때 Entropy 지표를 통해 Information Gain을 계산할 수 있는 함수(또는 코드)를 작성하고, Information gain을 계산하세요.\n",
        "# 실습에서 다루지 않은 내용입니다. 코드가 어려우시다면 줄글로만 풀이과정을 작성해주셔도 됩니다.\n",
        "\n",
        "import math \n",
        "\n",
        "def calc_entropy(column):\n",
        "    \"\"\"\n",
        "    Calculate entropy given a pandas series, list, or numpy array.\n",
        "    \"\"\"\n",
        "    # Compute the counts of each unique value in the column\n",
        "    counts = np.bincount(column)\n",
        "    # Divide by the total column length to get a probability\n",
        "    probabilities = counts / len(column)\n",
        "    \n",
        "    # Initialize the entropy to 0\n",
        "    entropy = 0\n",
        "    # Loop through the probabilities, and add each one to the total entropy\n",
        "    for prob in probabilities:\n",
        "        if prob > 0:\n",
        "            # use log from math and set base to 2\n",
        "            entropy += prob * math.log(prob, 2)\n",
        "    \n",
        "    return -entropy\n",
        "\n",
        "def get_ig(data, split_criterion, target):\n",
        "  entropy_original = get_entropy(data[target])\n",
        "  values = data[split_criterion].unique()\n",
        "\n",
        "  subset1 = data[data[split_criterion] == values[0]]\n",
        "  subset2 = data[data[split_criterion] == values[1]]\n",
        "  subset3 = data[data[split_criterion] == values[2]]\n",
        "  \n",
        "  to_subtract = 0\n",
        "  for subset in [subset1,subset2,subset3]:\n",
        "    prob = (subset.shape[0]/data.shape[0])\n",
        "    to_subtract += prob * get_entropy(subset[target])\n",
        "\n",
        "  return entropy_original - to_subtract\n",
        "\n",
        "\n",
        "\n",
        "##reference :https://towardsdatascience.com/entropy-and-information-gain-in-decision-trees-c7db67a3a293"
      ],
      "execution_count": 38,
      "outputs": []
    },
    {
      "cell_type": "code",
      "metadata": {
        "id": "opQJwrZDaKm2"
      },
      "source": [
        "# titanic data로 Pclass를 분리기준으로 이용했을 때의 entropy를 계산하는 상황만 고려하시면 됩니다.\r\n",
        "# 계산에 사용할 데이터는 분할 이전의 0번에서 전처리 완료한 데이터를 기준으로 하겠습니다!\r\n",
        "# 올바르게 계산할 시 Information Gain은 0.0097이 나옵니다.\r\n",
        "\r\n",
        "calc_information_gain(titanic, 'Pclass', 'Survived')"
      ],
      "execution_count": null,
      "outputs": []
    },
    {
      "cell_type": "code",
      "metadata": {
        "id": "E8kj8r_ARKWK",
        "colab": {
          "base_uri": "https://localhost:8080/"
        },
        "outputId": "cec8ff09-bf29-4923-f250-0f339b191734"
      },
      "source": [
        "# Decision Tree 모델을 사용하기 위한 적절한 패키지를 불러와 주세요\n",
        "# 별 다른 parameter 설정 없이 객체를 만들어 주고, 학습을 진행하세요\n",
        "\n",
        "from sklearn.tree import DecisionTreeClassifier\n",
        "X_train = X_train.fillna(X_train.mean())\n",
        "dt_clf=DecisionTreeClassifier(criterion='entropy', min_samples_split=3, random_state=156)\n",
        "dt_clf.fit(X_train, y_train)\n"
      ],
      "execution_count": 40,
      "outputs": [
        {
          "output_type": "execute_result",
          "data": {
            "text/plain": [
              "DecisionTreeClassifier(ccp_alpha=0.0, class_weight=None, criterion='entropy',\n",
              "                       max_depth=None, max_features=None, max_leaf_nodes=None,\n",
              "                       min_impurity_decrease=0.0, min_impurity_split=None,\n",
              "                       min_samples_leaf=1, min_samples_split=3,\n",
              "                       min_weight_fraction_leaf=0.0, presort='deprecated',\n",
              "                       random_state=156, splitter='best')"
            ]
          },
          "metadata": {
            "tags": []
          },
          "execution_count": 40
        }
      ]
    },
    {
      "cell_type": "markdown",
      "metadata": {
        "id": "Idd6Ro2gRKWQ"
      },
      "source": [
        "### 3. Graphviz를 통한 시각화\n",
        "\n",
        "graphviz 설치를 하지 않으셨거나 오류가 난다면 이 부분은 건너뛰셔도 좋습니다"
      ]
    },
    {
      "cell_type": "code",
      "metadata": {
        "id": "boFILZbxRKWS",
        "colab": {
          "base_uri": "https://localhost:8080/",
          "height": 1000
        },
        "outputId": "aa511dac-ef8c-45df-9b89-5b1bbbef1280"
      },
      "source": [
        "from sklearn.tree import export_graphviz\n",
        "\n",
        "export_graphviz(dt_clf,\n",
        "                out_file=(\"titanic_hw.dot\"),\n",
        "                feature_names=X_train.columns,\n",
        "                class_names=['0','1'],\n",
        "                rounded=True,\n",
        "                filled=True)\n",
        "\n",
        "import graphviz\n",
        "import os\n",
        "\n",
        "os.environ[\"PATH\"] += os.pathsep + 'C:/graphviz-2.38/release/bin'\n",
        "\n",
        "with open(\"titanic_hw.dot\") as f:\n",
        "    dot_graph = f.read()\n",
        "    display(graphviz.Source(dot_graph))"
      ],
      "execution_count": 41,
      "outputs": [
        {
          "output_type": "display_data",
          "data": {
            "text/plain": [
              "<graphviz.files.Source at 0x7fef980fe080>"
            ],
            "image/svg+xml": "<?xml version=\"1.0\" encoding=\"UTF-8\" standalone=\"no\"?>\n<!DOCTYPE svg PUBLIC \"-//W3C//DTD SVG 1.1//EN\"\n \"http://www.w3.org/Graphics/SVG/1.1/DTD/svg11.dtd\">\n<!-- Generated by graphviz version 2.40.1 (20161225.0304)\n -->\n<!-- Title: Tree Pages: 1 -->\n<svg width=\"1393pt\" height=\"1861pt\"\n viewBox=\"0.00 0.00 1393.00 1861.00\" xmlns=\"http://www.w3.org/2000/svg\" xmlns:xlink=\"http://www.w3.org/1999/xlink\">\n<g id=\"graph0\" class=\"graph\" transform=\"scale(1 1) rotate(0) translate(4 1857)\">\n<title>Tree</title>\n<polygon fill=\"#ffffff\" stroke=\"transparent\" points=\"-4,4 -4,-1857 1389,-1857 1389,4 -4,4\"/>\n<!-- 0 -->\n<g id=\"node1\" class=\"node\">\n<title>0</title>\n<path fill=\"#9acdf2\" stroke=\"#000000\" d=\"M479.5,-1853C479.5,-1853 385.5,-1853 385.5,-1853 379.5,-1853 373.5,-1847 373.5,-1841 373.5,-1841 373.5,-1782 373.5,-1782 373.5,-1776 379.5,-1770 385.5,-1770 385.5,-1770 479.5,-1770 479.5,-1770 485.5,-1770 491.5,-1776 491.5,-1782 491.5,-1782 491.5,-1841 491.5,-1841 491.5,-1847 485.5,-1853 479.5,-1853\"/>\n<text text-anchor=\"middle\" x=\"432.5\" y=\"-1837.8\" font-family=\"Helvetica,sans-Serif\" font-size=\"14.00\" fill=\"#000000\">Sex &lt;= 0.5</text>\n<text text-anchor=\"middle\" x=\"432.5\" y=\"-1822.8\" font-family=\"Helvetica,sans-Serif\" font-size=\"14.00\" fill=\"#000000\">entropy = 0.914</text>\n<text text-anchor=\"middle\" x=\"432.5\" y=\"-1807.8\" font-family=\"Helvetica,sans-Serif\" font-size=\"14.00\" fill=\"#000000\">samples = 146</text>\n<text text-anchor=\"middle\" x=\"432.5\" y=\"-1792.8\" font-family=\"Helvetica,sans-Serif\" font-size=\"14.00\" fill=\"#000000\">value = [48, 98]</text>\n<text text-anchor=\"middle\" x=\"432.5\" y=\"-1777.8\" font-family=\"Helvetica,sans-Serif\" font-size=\"14.00\" fill=\"#000000\">class = 1</text>\n</g>\n<!-- 1 -->\n<g id=\"node2\" class=\"node\">\n<title>1</title>\n<path fill=\"#4ca6e7\" stroke=\"#000000\" d=\"M411.5,-1734C411.5,-1734 317.5,-1734 317.5,-1734 311.5,-1734 305.5,-1728 305.5,-1722 305.5,-1722 305.5,-1663 305.5,-1663 305.5,-1657 311.5,-1651 317.5,-1651 317.5,-1651 411.5,-1651 411.5,-1651 417.5,-1651 423.5,-1657 423.5,-1663 423.5,-1663 423.5,-1722 423.5,-1722 423.5,-1728 417.5,-1734 411.5,-1734\"/>\n<text text-anchor=\"middle\" x=\"364.5\" y=\"-1718.8\" font-family=\"Helvetica,sans-Serif\" font-size=\"14.00\" fill=\"#000000\">Age &lt;= 3.0</text>\n<text text-anchor=\"middle\" x=\"364.5\" y=\"-1703.8\" font-family=\"Helvetica,sans-Serif\" font-size=\"14.00\" fill=\"#000000\">entropy = 0.422</text>\n<text text-anchor=\"middle\" x=\"364.5\" y=\"-1688.8\" font-family=\"Helvetica,sans-Serif\" font-size=\"14.00\" fill=\"#000000\">samples = 70</text>\n<text text-anchor=\"middle\" x=\"364.5\" y=\"-1673.8\" font-family=\"Helvetica,sans-Serif\" font-size=\"14.00\" fill=\"#000000\">value = [6, 64]</text>\n<text text-anchor=\"middle\" x=\"364.5\" y=\"-1658.8\" font-family=\"Helvetica,sans-Serif\" font-size=\"14.00\" fill=\"#000000\">class = 1</text>\n</g>\n<!-- 0&#45;&gt;1 -->\n<g id=\"edge1\" class=\"edge\">\n<title>0&#45;&gt;1</title>\n<path fill=\"none\" stroke=\"#000000\" d=\"M408.7169,-1769.8796C403.7763,-1761.2335 398.5184,-1752.0322 393.4167,-1743.1042\"/>\n<polygon fill=\"#000000\" stroke=\"#000000\" points=\"396.3849,-1741.244 388.3846,-1734.2981 390.3072,-1744.717 396.3849,-1741.244\"/>\n<text text-anchor=\"middle\" x=\"381.8067\" y=\"-1754.7172\" font-family=\"Helvetica,sans-Serif\" font-size=\"14.00\" fill=\"#000000\">True</text>\n</g>\n<!-- 18 -->\n<g id=\"node19\" class=\"node\">\n<title>18</title>\n<path fill=\"#fae7d9\" stroke=\"#000000\" d=\"M547.5,-1734C547.5,-1734 453.5,-1734 453.5,-1734 447.5,-1734 441.5,-1728 441.5,-1722 441.5,-1722 441.5,-1663 441.5,-1663 441.5,-1657 447.5,-1651 453.5,-1651 453.5,-1651 547.5,-1651 547.5,-1651 553.5,-1651 559.5,-1657 559.5,-1663 559.5,-1663 559.5,-1722 559.5,-1722 559.5,-1728 553.5,-1734 547.5,-1734\"/>\n<text text-anchor=\"middle\" x=\"500.5\" y=\"-1718.8\" font-family=\"Helvetica,sans-Serif\" font-size=\"14.00\" fill=\"#000000\">Age &lt;= 18.0</text>\n<text text-anchor=\"middle\" x=\"500.5\" y=\"-1703.8\" font-family=\"Helvetica,sans-Serif\" font-size=\"14.00\" fill=\"#000000\">entropy = 0.992</text>\n<text text-anchor=\"middle\" x=\"500.5\" y=\"-1688.8\" font-family=\"Helvetica,sans-Serif\" font-size=\"14.00\" fill=\"#000000\">samples = 76</text>\n<text text-anchor=\"middle\" x=\"500.5\" y=\"-1673.8\" font-family=\"Helvetica,sans-Serif\" font-size=\"14.00\" fill=\"#000000\">value = [42, 34]</text>\n<text text-anchor=\"middle\" x=\"500.5\" y=\"-1658.8\" font-family=\"Helvetica,sans-Serif\" font-size=\"14.00\" fill=\"#000000\">class = 0</text>\n</g>\n<!-- 0&#45;&gt;18 -->\n<g id=\"edge18\" class=\"edge\">\n<title>0&#45;&gt;18</title>\n<path fill=\"none\" stroke=\"#000000\" d=\"M456.2831,-1769.8796C461.2237,-1761.2335 466.4816,-1752.0322 471.5833,-1743.1042\"/>\n<polygon fill=\"#000000\" stroke=\"#000000\" points=\"474.6928,-1744.717 476.6154,-1734.2981 468.6151,-1741.244 474.6928,-1744.717\"/>\n<text text-anchor=\"middle\" x=\"483.1933\" y=\"-1754.7172\" font-family=\"Helvetica,sans-Serif\" font-size=\"14.00\" fill=\"#000000\">False</text>\n</g>\n<!-- 2 -->\n<g id=\"node3\" class=\"node\">\n<title>2</title>\n<path fill=\"#e58139\" stroke=\"#000000\" d=\"M279,-1607.5C279,-1607.5 202,-1607.5 202,-1607.5 196,-1607.5 190,-1601.5 190,-1595.5 190,-1595.5 190,-1551.5 190,-1551.5 190,-1545.5 196,-1539.5 202,-1539.5 202,-1539.5 279,-1539.5 279,-1539.5 285,-1539.5 291,-1545.5 291,-1551.5 291,-1551.5 291,-1595.5 291,-1595.5 291,-1601.5 285,-1607.5 279,-1607.5\"/>\n<text text-anchor=\"middle\" x=\"240.5\" y=\"-1592.3\" font-family=\"Helvetica,sans-Serif\" font-size=\"14.00\" fill=\"#000000\">entropy = 0.0</text>\n<text text-anchor=\"middle\" x=\"240.5\" y=\"-1577.3\" font-family=\"Helvetica,sans-Serif\" font-size=\"14.00\" fill=\"#000000\">samples = 2</text>\n<text text-anchor=\"middle\" x=\"240.5\" y=\"-1562.3\" font-family=\"Helvetica,sans-Serif\" font-size=\"14.00\" fill=\"#000000\">value = [2, 0]</text>\n<text text-anchor=\"middle\" x=\"240.5\" y=\"-1547.3\" font-family=\"Helvetica,sans-Serif\" font-size=\"14.00\" fill=\"#000000\">class = 0</text>\n</g>\n<!-- 1&#45;&gt;2 -->\n<g id=\"edge2\" class=\"edge\">\n<title>1&#45;&gt;2</title>\n<path fill=\"none\" stroke=\"#000000\" d=\"M321.1308,-1650.8796C308.9852,-1639.2237 295.7881,-1626.5587 283.6549,-1614.9148\"/>\n<polygon fill=\"#000000\" stroke=\"#000000\" points=\"285.8953,-1612.2138 276.2567,-1607.8149 281.0484,-1617.2643 285.8953,-1612.2138\"/>\n</g>\n<!-- 3 -->\n<g id=\"node4\" class=\"node\">\n<title>3</title>\n<path fill=\"#45a3e7\" stroke=\"#000000\" d=\"M415.5,-1615C415.5,-1615 321.5,-1615 321.5,-1615 315.5,-1615 309.5,-1609 309.5,-1603 309.5,-1603 309.5,-1544 309.5,-1544 309.5,-1538 315.5,-1532 321.5,-1532 321.5,-1532 415.5,-1532 415.5,-1532 421.5,-1532 427.5,-1538 427.5,-1544 427.5,-1544 427.5,-1603 427.5,-1603 427.5,-1609 421.5,-1615 415.5,-1615\"/>\n<text text-anchor=\"middle\" x=\"368.5\" y=\"-1599.8\" font-family=\"Helvetica,sans-Serif\" font-size=\"14.00\" fill=\"#000000\">Fare &lt;= 11.488</text>\n<text text-anchor=\"middle\" x=\"368.5\" y=\"-1584.8\" font-family=\"Helvetica,sans-Serif\" font-size=\"14.00\" fill=\"#000000\">entropy = 0.323</text>\n<text text-anchor=\"middle\" x=\"368.5\" y=\"-1569.8\" font-family=\"Helvetica,sans-Serif\" font-size=\"14.00\" fill=\"#000000\">samples = 68</text>\n<text text-anchor=\"middle\" x=\"368.5\" y=\"-1554.8\" font-family=\"Helvetica,sans-Serif\" font-size=\"14.00\" fill=\"#000000\">value = [4, 64]</text>\n<text text-anchor=\"middle\" x=\"368.5\" y=\"-1539.8\" font-family=\"Helvetica,sans-Serif\" font-size=\"14.00\" fill=\"#000000\">class = 1</text>\n</g>\n<!-- 1&#45;&gt;3 -->\n<g id=\"edge3\" class=\"edge\">\n<title>1&#45;&gt;3</title>\n<path fill=\"none\" stroke=\"#000000\" d=\"M365.899,-1650.8796C366.1745,-1642.6838 366.4668,-1633.9891 366.7521,-1625.5013\"/>\n<polygon fill=\"#000000\" stroke=\"#000000\" points=\"370.257,-1625.41 367.095,-1615.2981 363.261,-1625.1748 370.257,-1625.41\"/>\n</g>\n<!-- 4 -->\n<g id=\"node5\" class=\"node\">\n<title>4</title>\n<path fill=\"#bddef6\" stroke=\"#000000\" d=\"M280.5,-1496C280.5,-1496 186.5,-1496 186.5,-1496 180.5,-1496 174.5,-1490 174.5,-1484 174.5,-1484 174.5,-1425 174.5,-1425 174.5,-1419 180.5,-1413 186.5,-1413 186.5,-1413 280.5,-1413 280.5,-1413 286.5,-1413 292.5,-1419 292.5,-1425 292.5,-1425 292.5,-1484 292.5,-1484 292.5,-1490 286.5,-1496 280.5,-1496\"/>\n<text text-anchor=\"middle\" x=\"233.5\" y=\"-1480.8\" font-family=\"Helvetica,sans-Serif\" font-size=\"14.00\" fill=\"#000000\">Pclass &lt;= 2.5</text>\n<text text-anchor=\"middle\" x=\"233.5\" y=\"-1465.8\" font-family=\"Helvetica,sans-Serif\" font-size=\"14.00\" fill=\"#000000\">entropy = 0.971</text>\n<text text-anchor=\"middle\" x=\"233.5\" y=\"-1450.8\" font-family=\"Helvetica,sans-Serif\" font-size=\"14.00\" fill=\"#000000\">samples = 5</text>\n<text text-anchor=\"middle\" x=\"233.5\" y=\"-1435.8\" font-family=\"Helvetica,sans-Serif\" font-size=\"14.00\" fill=\"#000000\">value = [2, 3]</text>\n<text text-anchor=\"middle\" x=\"233.5\" y=\"-1420.8\" font-family=\"Helvetica,sans-Serif\" font-size=\"14.00\" fill=\"#000000\">class = 1</text>\n</g>\n<!-- 3&#45;&gt;4 -->\n<g id=\"edge4\" class=\"edge\">\n<title>3&#45;&gt;4</title>\n<path fill=\"none\" stroke=\"#000000\" d=\"M321.2836,-1531.8796C310.7598,-1522.6031 299.5109,-1512.6874 288.6979,-1503.1559\"/>\n<polygon fill=\"#000000\" stroke=\"#000000\" points=\"290.734,-1500.2851 280.918,-1496.2981 286.1052,-1505.5362 290.734,-1500.2851\"/>\n</g>\n<!-- 9 -->\n<g id=\"node10\" class=\"node\">\n<title>9</title>\n<path fill=\"#3fa0e6\" stroke=\"#000000\" d=\"M416.5,-1496C416.5,-1496 322.5,-1496 322.5,-1496 316.5,-1496 310.5,-1490 310.5,-1484 310.5,-1484 310.5,-1425 310.5,-1425 310.5,-1419 316.5,-1413 322.5,-1413 322.5,-1413 416.5,-1413 416.5,-1413 422.5,-1413 428.5,-1419 428.5,-1425 428.5,-1425 428.5,-1484 428.5,-1484 428.5,-1490 422.5,-1496 416.5,-1496\"/>\n<text text-anchor=\"middle\" x=\"369.5\" y=\"-1480.8\" font-family=\"Helvetica,sans-Serif\" font-size=\"14.00\" fill=\"#000000\">Age &lt;= 24.5</text>\n<text text-anchor=\"middle\" x=\"369.5\" y=\"-1465.8\" font-family=\"Helvetica,sans-Serif\" font-size=\"14.00\" fill=\"#000000\">entropy = 0.203</text>\n<text text-anchor=\"middle\" x=\"369.5\" y=\"-1450.8\" font-family=\"Helvetica,sans-Serif\" font-size=\"14.00\" fill=\"#000000\">samples = 63</text>\n<text text-anchor=\"middle\" x=\"369.5\" y=\"-1435.8\" font-family=\"Helvetica,sans-Serif\" font-size=\"14.00\" fill=\"#000000\">value = [2, 61]</text>\n<text text-anchor=\"middle\" x=\"369.5\" y=\"-1420.8\" font-family=\"Helvetica,sans-Serif\" font-size=\"14.00\" fill=\"#000000\">class = 1</text>\n</g>\n<!-- 3&#45;&gt;9 -->\n<g id=\"edge9\" class=\"edge\">\n<title>3&#45;&gt;9</title>\n<path fill=\"none\" stroke=\"#000000\" d=\"M368.8498,-1531.8796C368.9186,-1523.6838 368.9917,-1514.9891 369.063,-1506.5013\"/>\n<polygon fill=\"#000000\" stroke=\"#000000\" points=\"372.5645,-1506.3272 369.1488,-1496.2981 365.5648,-1506.2683 372.5645,-1506.3272\"/>\n</g>\n<!-- 5 -->\n<g id=\"node6\" class=\"node\">\n<title>5</title>\n<path fill=\"#7bbeee\" stroke=\"#000000\" d=\"M156.5,-1377C156.5,-1377 62.5,-1377 62.5,-1377 56.5,-1377 50.5,-1371 50.5,-1365 50.5,-1365 50.5,-1306 50.5,-1306 50.5,-1300 56.5,-1294 62.5,-1294 62.5,-1294 156.5,-1294 156.5,-1294 162.5,-1294 168.5,-1300 168.5,-1306 168.5,-1306 168.5,-1365 168.5,-1365 168.5,-1371 162.5,-1377 156.5,-1377\"/>\n<text text-anchor=\"middle\" x=\"109.5\" y=\"-1361.8\" font-family=\"Helvetica,sans-Serif\" font-size=\"14.00\" fill=\"#000000\">Age &lt;= 45.5</text>\n<text text-anchor=\"middle\" x=\"109.5\" y=\"-1346.8\" font-family=\"Helvetica,sans-Serif\" font-size=\"14.00\" fill=\"#000000\">entropy = 0.811</text>\n<text text-anchor=\"middle\" x=\"109.5\" y=\"-1331.8\" font-family=\"Helvetica,sans-Serif\" font-size=\"14.00\" fill=\"#000000\">samples = 4</text>\n<text text-anchor=\"middle\" x=\"109.5\" y=\"-1316.8\" font-family=\"Helvetica,sans-Serif\" font-size=\"14.00\" fill=\"#000000\">value = [1, 3]</text>\n<text text-anchor=\"middle\" x=\"109.5\" y=\"-1301.8\" font-family=\"Helvetica,sans-Serif\" font-size=\"14.00\" fill=\"#000000\">class = 1</text>\n</g>\n<!-- 4&#45;&gt;5 -->\n<g id=\"edge5\" class=\"edge\">\n<title>4&#45;&gt;5</title>\n<path fill=\"none\" stroke=\"#000000\" d=\"M190.1308,-1412.8796C180.5584,-1403.6931 170.3328,-1393.8798 160.4897,-1384.4336\"/>\n<polygon fill=\"#000000\" stroke=\"#000000\" points=\"162.6928,-1381.6969 153.0543,-1377.2981 157.8459,-1386.7475 162.6928,-1381.6969\"/>\n</g>\n<!-- 8 -->\n<g id=\"node9\" class=\"node\">\n<title>8</title>\n<path fill=\"#e58139\" stroke=\"#000000\" d=\"M276,-1369.5C276,-1369.5 199,-1369.5 199,-1369.5 193,-1369.5 187,-1363.5 187,-1357.5 187,-1357.5 187,-1313.5 187,-1313.5 187,-1307.5 193,-1301.5 199,-1301.5 199,-1301.5 276,-1301.5 276,-1301.5 282,-1301.5 288,-1307.5 288,-1313.5 288,-1313.5 288,-1357.5 288,-1357.5 288,-1363.5 282,-1369.5 276,-1369.5\"/>\n<text text-anchor=\"middle\" x=\"237.5\" y=\"-1354.3\" font-family=\"Helvetica,sans-Serif\" font-size=\"14.00\" fill=\"#000000\">entropy = 0.0</text>\n<text text-anchor=\"middle\" x=\"237.5\" y=\"-1339.3\" font-family=\"Helvetica,sans-Serif\" font-size=\"14.00\" fill=\"#000000\">samples = 1</text>\n<text text-anchor=\"middle\" x=\"237.5\" y=\"-1324.3\" font-family=\"Helvetica,sans-Serif\" font-size=\"14.00\" fill=\"#000000\">value = [1, 0]</text>\n<text text-anchor=\"middle\" x=\"237.5\" y=\"-1309.3\" font-family=\"Helvetica,sans-Serif\" font-size=\"14.00\" fill=\"#000000\">class = 0</text>\n</g>\n<!-- 4&#45;&gt;8 -->\n<g id=\"edge8\" class=\"edge\">\n<title>4&#45;&gt;8</title>\n<path fill=\"none\" stroke=\"#000000\" d=\"M234.899,-1412.8796C235.2575,-1402.2134 235.6445,-1390.7021 236.0075,-1379.9015\"/>\n<polygon fill=\"#000000\" stroke=\"#000000\" points=\"239.5085,-1379.9269 236.3466,-1369.8149 232.5125,-1379.6917 239.5085,-1379.9269\"/>\n</g>\n<!-- 6 -->\n<g id=\"node7\" class=\"node\">\n<title>6</title>\n<path fill=\"#399de5\" stroke=\"#000000\" d=\"M89,-1250.5C89,-1250.5 12,-1250.5 12,-1250.5 6,-1250.5 0,-1244.5 0,-1238.5 0,-1238.5 0,-1194.5 0,-1194.5 0,-1188.5 6,-1182.5 12,-1182.5 12,-1182.5 89,-1182.5 89,-1182.5 95,-1182.5 101,-1188.5 101,-1194.5 101,-1194.5 101,-1238.5 101,-1238.5 101,-1244.5 95,-1250.5 89,-1250.5\"/>\n<text text-anchor=\"middle\" x=\"50.5\" y=\"-1235.3\" font-family=\"Helvetica,sans-Serif\" font-size=\"14.00\" fill=\"#000000\">entropy = 0.0</text>\n<text text-anchor=\"middle\" x=\"50.5\" y=\"-1220.3\" font-family=\"Helvetica,sans-Serif\" font-size=\"14.00\" fill=\"#000000\">samples = 3</text>\n<text text-anchor=\"middle\" x=\"50.5\" y=\"-1205.3\" font-family=\"Helvetica,sans-Serif\" font-size=\"14.00\" fill=\"#000000\">value = [0, 3]</text>\n<text text-anchor=\"middle\" x=\"50.5\" y=\"-1190.3\" font-family=\"Helvetica,sans-Serif\" font-size=\"14.00\" fill=\"#000000\">class = 1</text>\n</g>\n<!-- 5&#45;&gt;6 -->\n<g id=\"edge6\" class=\"edge\">\n<title>5&#45;&gt;6</title>\n<path fill=\"none\" stroke=\"#000000\" d=\"M88.8647,-1293.8796C83.4128,-1282.8835 77.5157,-1270.9893 72.0184,-1259.9015\"/>\n<polygon fill=\"#000000\" stroke=\"#000000\" points=\"75.0911,-1258.2195 67.5133,-1250.8149 68.8196,-1261.3289 75.0911,-1258.2195\"/>\n</g>\n<!-- 7 -->\n<g id=\"node8\" class=\"node\">\n<title>7</title>\n<path fill=\"#e58139\" stroke=\"#000000\" d=\"M208,-1250.5C208,-1250.5 131,-1250.5 131,-1250.5 125,-1250.5 119,-1244.5 119,-1238.5 119,-1238.5 119,-1194.5 119,-1194.5 119,-1188.5 125,-1182.5 131,-1182.5 131,-1182.5 208,-1182.5 208,-1182.5 214,-1182.5 220,-1188.5 220,-1194.5 220,-1194.5 220,-1238.5 220,-1238.5 220,-1244.5 214,-1250.5 208,-1250.5\"/>\n<text text-anchor=\"middle\" x=\"169.5\" y=\"-1235.3\" font-family=\"Helvetica,sans-Serif\" font-size=\"14.00\" fill=\"#000000\">entropy = 0.0</text>\n<text text-anchor=\"middle\" x=\"169.5\" y=\"-1220.3\" font-family=\"Helvetica,sans-Serif\" font-size=\"14.00\" fill=\"#000000\">samples = 1</text>\n<text text-anchor=\"middle\" x=\"169.5\" y=\"-1205.3\" font-family=\"Helvetica,sans-Serif\" font-size=\"14.00\" fill=\"#000000\">value = [1, 0]</text>\n<text text-anchor=\"middle\" x=\"169.5\" y=\"-1190.3\" font-family=\"Helvetica,sans-Serif\" font-size=\"14.00\" fill=\"#000000\">class = 0</text>\n</g>\n<!-- 5&#45;&gt;7 -->\n<g id=\"edge7\" class=\"edge\">\n<title>5&#45;&gt;7</title>\n<path fill=\"none\" stroke=\"#000000\" d=\"M130.4851,-1293.8796C136.0293,-1282.8835 142.0264,-1270.9893 147.6169,-1259.9015\"/>\n<polygon fill=\"#000000\" stroke=\"#000000\" points=\"150.8214,-1261.3199 152.1984,-1250.8149 144.5709,-1258.1684 150.8214,-1261.3199\"/>\n</g>\n<!-- 10 -->\n<g id=\"node11\" class=\"node\">\n<title>10</title>\n<path fill=\"#399de5\" stroke=\"#000000\" d=\"M408,-1369.5C408,-1369.5 325,-1369.5 325,-1369.5 319,-1369.5 313,-1363.5 313,-1357.5 313,-1357.5 313,-1313.5 313,-1313.5 313,-1307.5 319,-1301.5 325,-1301.5 325,-1301.5 408,-1301.5 408,-1301.5 414,-1301.5 420,-1307.5 420,-1313.5 420,-1313.5 420,-1357.5 420,-1357.5 420,-1363.5 414,-1369.5 408,-1369.5\"/>\n<text text-anchor=\"middle\" x=\"366.5\" y=\"-1354.3\" font-family=\"Helvetica,sans-Serif\" font-size=\"14.00\" fill=\"#000000\">entropy = 0.0</text>\n<text text-anchor=\"middle\" x=\"366.5\" y=\"-1339.3\" font-family=\"Helvetica,sans-Serif\" font-size=\"14.00\" fill=\"#000000\">samples = 23</text>\n<text text-anchor=\"middle\" x=\"366.5\" y=\"-1324.3\" font-family=\"Helvetica,sans-Serif\" font-size=\"14.00\" fill=\"#000000\">value = [0, 23]</text>\n<text text-anchor=\"middle\" x=\"366.5\" y=\"-1309.3\" font-family=\"Helvetica,sans-Serif\" font-size=\"14.00\" fill=\"#000000\">class = 1</text>\n</g>\n<!-- 9&#45;&gt;10 -->\n<g id=\"edge10\" class=\"edge\">\n<title>9&#45;&gt;10</title>\n<path fill=\"none\" stroke=\"#000000\" d=\"M368.4507,-1412.8796C368.1818,-1402.2134 367.8916,-1390.7021 367.6194,-1379.9015\"/>\n<polygon fill=\"#000000\" stroke=\"#000000\" points=\"371.1161,-1379.7235 367.3651,-1369.8149 364.1183,-1379.9 371.1161,-1379.7235\"/>\n</g>\n<!-- 11 -->\n<g id=\"node12\" class=\"node\">\n<title>11</title>\n<path fill=\"#43a2e6\" stroke=\"#000000\" d=\"M544.5,-1377C544.5,-1377 450.5,-1377 450.5,-1377 444.5,-1377 438.5,-1371 438.5,-1365 438.5,-1365 438.5,-1306 438.5,-1306 438.5,-1300 444.5,-1294 450.5,-1294 450.5,-1294 544.5,-1294 544.5,-1294 550.5,-1294 556.5,-1300 556.5,-1306 556.5,-1306 556.5,-1365 556.5,-1365 556.5,-1371 550.5,-1377 544.5,-1377\"/>\n<text text-anchor=\"middle\" x=\"497.5\" y=\"-1361.8\" font-family=\"Helvetica,sans-Serif\" font-size=\"14.00\" fill=\"#000000\">Age &lt;= 26.0</text>\n<text text-anchor=\"middle\" x=\"497.5\" y=\"-1346.8\" font-family=\"Helvetica,sans-Serif\" font-size=\"14.00\" fill=\"#000000\">entropy = 0.286</text>\n<text text-anchor=\"middle\" x=\"497.5\" y=\"-1331.8\" font-family=\"Helvetica,sans-Serif\" font-size=\"14.00\" fill=\"#000000\">samples = 40</text>\n<text text-anchor=\"middle\" x=\"497.5\" y=\"-1316.8\" font-family=\"Helvetica,sans-Serif\" font-size=\"14.00\" fill=\"#000000\">value = [2, 38]</text>\n<text text-anchor=\"middle\" x=\"497.5\" y=\"-1301.8\" font-family=\"Helvetica,sans-Serif\" font-size=\"14.00\" fill=\"#000000\">class = 1</text>\n</g>\n<!-- 9&#45;&gt;11 -->\n<g id=\"edge11\" class=\"edge\">\n<title>9&#45;&gt;11</title>\n<path fill=\"none\" stroke=\"#000000\" d=\"M414.2682,-1412.8796C424.2463,-1403.6031 434.9119,-1393.6874 445.1642,-1384.1559\"/>\n<polygon fill=\"#000000\" stroke=\"#000000\" points=\"447.6,-1386.6704 452.5407,-1377.2981 442.8337,-1381.5436 447.6,-1386.6704\"/>\n</g>\n<!-- 12 -->\n<g id=\"node13\" class=\"node\">\n<title>12</title>\n<path fill=\"#e58139\" stroke=\"#000000\" d=\"M410,-1250.5C410,-1250.5 333,-1250.5 333,-1250.5 327,-1250.5 321,-1244.5 321,-1238.5 321,-1238.5 321,-1194.5 321,-1194.5 321,-1188.5 327,-1182.5 333,-1182.5 333,-1182.5 410,-1182.5 410,-1182.5 416,-1182.5 422,-1188.5 422,-1194.5 422,-1194.5 422,-1238.5 422,-1238.5 422,-1244.5 416,-1250.5 410,-1250.5\"/>\n<text text-anchor=\"middle\" x=\"371.5\" y=\"-1235.3\" font-family=\"Helvetica,sans-Serif\" font-size=\"14.00\" fill=\"#000000\">entropy = 0.0</text>\n<text text-anchor=\"middle\" x=\"371.5\" y=\"-1220.3\" font-family=\"Helvetica,sans-Serif\" font-size=\"14.00\" fill=\"#000000\">samples = 1</text>\n<text text-anchor=\"middle\" x=\"371.5\" y=\"-1205.3\" font-family=\"Helvetica,sans-Serif\" font-size=\"14.00\" fill=\"#000000\">value = [1, 0]</text>\n<text text-anchor=\"middle\" x=\"371.5\" y=\"-1190.3\" font-family=\"Helvetica,sans-Serif\" font-size=\"14.00\" fill=\"#000000\">class = 0</text>\n</g>\n<!-- 11&#45;&gt;12 -->\n<g id=\"edge12\" class=\"edge\">\n<title>11&#45;&gt;12</title>\n<path fill=\"none\" stroke=\"#000000\" d=\"M453.4313,-1293.8796C441.0898,-1282.2237 427.6798,-1269.5587 415.351,-1257.9148\"/>\n<polygon fill=\"#000000\" stroke=\"#000000\" points=\"417.5068,-1255.1366 407.8335,-1250.8149 412.7004,-1260.2258 417.5068,-1255.1366\"/>\n</g>\n<!-- 13 -->\n<g id=\"node14\" class=\"node\">\n<title>13</title>\n<path fill=\"#3ea0e6\" stroke=\"#000000\" d=\"M546.5,-1258C546.5,-1258 452.5,-1258 452.5,-1258 446.5,-1258 440.5,-1252 440.5,-1246 440.5,-1246 440.5,-1187 440.5,-1187 440.5,-1181 446.5,-1175 452.5,-1175 452.5,-1175 546.5,-1175 546.5,-1175 552.5,-1175 558.5,-1181 558.5,-1187 558.5,-1187 558.5,-1246 558.5,-1246 558.5,-1252 552.5,-1258 546.5,-1258\"/>\n<text text-anchor=\"middle\" x=\"499.5\" y=\"-1242.8\" font-family=\"Helvetica,sans-Serif\" font-size=\"14.00\" fill=\"#000000\">Fare &lt;= 34.156</text>\n<text text-anchor=\"middle\" x=\"499.5\" y=\"-1227.8\" font-family=\"Helvetica,sans-Serif\" font-size=\"14.00\" fill=\"#000000\">entropy = 0.172</text>\n<text text-anchor=\"middle\" x=\"499.5\" y=\"-1212.8\" font-family=\"Helvetica,sans-Serif\" font-size=\"14.00\" fill=\"#000000\">samples = 39</text>\n<text text-anchor=\"middle\" x=\"499.5\" y=\"-1197.8\" font-family=\"Helvetica,sans-Serif\" font-size=\"14.00\" fill=\"#000000\">value = [1, 38]</text>\n<text text-anchor=\"middle\" x=\"499.5\" y=\"-1182.8\" font-family=\"Helvetica,sans-Serif\" font-size=\"14.00\" fill=\"#000000\">class = 1</text>\n</g>\n<!-- 11&#45;&gt;13 -->\n<g id=\"edge13\" class=\"edge\">\n<title>11&#45;&gt;13</title>\n<path fill=\"none\" stroke=\"#000000\" d=\"M498.1995,-1293.8796C498.3372,-1285.6838 498.4834,-1276.9891 498.626,-1268.5013\"/>\n<polygon fill=\"#000000\" stroke=\"#000000\" points=\"502.1289,-1268.3555 498.7975,-1258.2981 495.1299,-1268.2378 502.1289,-1268.3555\"/>\n</g>\n<!-- 14 -->\n<g id=\"node15\" class=\"node\">\n<title>14</title>\n<path fill=\"#5aade9\" stroke=\"#000000\" d=\"M453.5,-1139C453.5,-1139 359.5,-1139 359.5,-1139 353.5,-1139 347.5,-1133 347.5,-1127 347.5,-1127 347.5,-1068 347.5,-1068 347.5,-1062 353.5,-1056 359.5,-1056 359.5,-1056 453.5,-1056 453.5,-1056 459.5,-1056 465.5,-1062 465.5,-1068 465.5,-1068 465.5,-1127 465.5,-1127 465.5,-1133 459.5,-1139 453.5,-1139\"/>\n<text text-anchor=\"middle\" x=\"406.5\" y=\"-1123.8\" font-family=\"Helvetica,sans-Serif\" font-size=\"14.00\" fill=\"#000000\">Fare &lt;= 28.217</text>\n<text text-anchor=\"middle\" x=\"406.5\" y=\"-1108.8\" font-family=\"Helvetica,sans-Serif\" font-size=\"14.00\" fill=\"#000000\">entropy = 0.592</text>\n<text text-anchor=\"middle\" x=\"406.5\" y=\"-1093.8\" font-family=\"Helvetica,sans-Serif\" font-size=\"14.00\" fill=\"#000000\">samples = 7</text>\n<text text-anchor=\"middle\" x=\"406.5\" y=\"-1078.8\" font-family=\"Helvetica,sans-Serif\" font-size=\"14.00\" fill=\"#000000\">value = [1, 6]</text>\n<text text-anchor=\"middle\" x=\"406.5\" y=\"-1063.8\" font-family=\"Helvetica,sans-Serif\" font-size=\"14.00\" fill=\"#000000\">class = 1</text>\n</g>\n<!-- 13&#45;&gt;14 -->\n<g id=\"edge14\" class=\"edge\">\n<title>13&#45;&gt;14</title>\n<path fill=\"none\" stroke=\"#000000\" d=\"M466.9731,-1174.8796C460.0049,-1165.9633 452.5753,-1156.4565 445.3944,-1147.268\"/>\n<polygon fill=\"#000000\" stroke=\"#000000\" points=\"448.0812,-1145.0221 439.1657,-1139.2981 442.5657,-1149.3326 448.0812,-1145.0221\"/>\n</g>\n<!-- 17 -->\n<g id=\"node18\" class=\"node\">\n<title>17</title>\n<path fill=\"#399de5\" stroke=\"#000000\" d=\"M579,-1131.5C579,-1131.5 496,-1131.5 496,-1131.5 490,-1131.5 484,-1125.5 484,-1119.5 484,-1119.5 484,-1075.5 484,-1075.5 484,-1069.5 490,-1063.5 496,-1063.5 496,-1063.5 579,-1063.5 579,-1063.5 585,-1063.5 591,-1069.5 591,-1075.5 591,-1075.5 591,-1119.5 591,-1119.5 591,-1125.5 585,-1131.5 579,-1131.5\"/>\n<text text-anchor=\"middle\" x=\"537.5\" y=\"-1116.3\" font-family=\"Helvetica,sans-Serif\" font-size=\"14.00\" fill=\"#000000\">entropy = 0.0</text>\n<text text-anchor=\"middle\" x=\"537.5\" y=\"-1101.3\" font-family=\"Helvetica,sans-Serif\" font-size=\"14.00\" fill=\"#000000\">samples = 32</text>\n<text text-anchor=\"middle\" x=\"537.5\" y=\"-1086.3\" font-family=\"Helvetica,sans-Serif\" font-size=\"14.00\" fill=\"#000000\">value = [0, 32]</text>\n<text text-anchor=\"middle\" x=\"537.5\" y=\"-1071.3\" font-family=\"Helvetica,sans-Serif\" font-size=\"14.00\" fill=\"#000000\">class = 1</text>\n</g>\n<!-- 13&#45;&gt;17 -->\n<g id=\"edge17\" class=\"edge\">\n<title>13&#45;&gt;17</title>\n<path fill=\"none\" stroke=\"#000000\" d=\"M512.7906,-1174.8796C516.2317,-1164.1034 519.9483,-1152.4647 523.4279,-1141.5677\"/>\n<polygon fill=\"#000000\" stroke=\"#000000\" points=\"526.8344,-1142.4057 526.5423,-1131.8149 520.1661,-1140.2763 526.8344,-1142.4057\"/>\n</g>\n<!-- 15 -->\n<g id=\"node16\" class=\"node\">\n<title>15</title>\n<path fill=\"#399de5\" stroke=\"#000000\" d=\"M388,-1012.5C388,-1012.5 311,-1012.5 311,-1012.5 305,-1012.5 299,-1006.5 299,-1000.5 299,-1000.5 299,-956.5 299,-956.5 299,-950.5 305,-944.5 311,-944.5 311,-944.5 388,-944.5 388,-944.5 394,-944.5 400,-950.5 400,-956.5 400,-956.5 400,-1000.5 400,-1000.5 400,-1006.5 394,-1012.5 388,-1012.5\"/>\n<text text-anchor=\"middle\" x=\"349.5\" y=\"-997.3\" font-family=\"Helvetica,sans-Serif\" font-size=\"14.00\" fill=\"#000000\">entropy = 0.0</text>\n<text text-anchor=\"middle\" x=\"349.5\" y=\"-982.3\" font-family=\"Helvetica,sans-Serif\" font-size=\"14.00\" fill=\"#000000\">samples = 6</text>\n<text text-anchor=\"middle\" x=\"349.5\" y=\"-967.3\" font-family=\"Helvetica,sans-Serif\" font-size=\"14.00\" fill=\"#000000\">value = [0, 6]</text>\n<text text-anchor=\"middle\" x=\"349.5\" y=\"-952.3\" font-family=\"Helvetica,sans-Serif\" font-size=\"14.00\" fill=\"#000000\">class = 1</text>\n</g>\n<!-- 14&#45;&gt;15 -->\n<g id=\"edge15\" class=\"edge\">\n<title>14&#45;&gt;15</title>\n<path fill=\"none\" stroke=\"#000000\" d=\"M386.5642,-1055.8796C381.2971,-1044.8835 375.5999,-1032.9893 370.289,-1021.9015\"/>\n<polygon fill=\"#000000\" stroke=\"#000000\" points=\"373.4131,-1020.3217 365.9366,-1012.8149 367.1,-1023.3457 373.4131,-1020.3217\"/>\n</g>\n<!-- 16 -->\n<g id=\"node17\" class=\"node\">\n<title>16</title>\n<path fill=\"#e58139\" stroke=\"#000000\" d=\"M507,-1012.5C507,-1012.5 430,-1012.5 430,-1012.5 424,-1012.5 418,-1006.5 418,-1000.5 418,-1000.5 418,-956.5 418,-956.5 418,-950.5 424,-944.5 430,-944.5 430,-944.5 507,-944.5 507,-944.5 513,-944.5 519,-950.5 519,-956.5 519,-956.5 519,-1000.5 519,-1000.5 519,-1006.5 513,-1012.5 507,-1012.5\"/>\n<text text-anchor=\"middle\" x=\"468.5\" y=\"-997.3\" font-family=\"Helvetica,sans-Serif\" font-size=\"14.00\" fill=\"#000000\">entropy = 0.0</text>\n<text text-anchor=\"middle\" x=\"468.5\" y=\"-982.3\" font-family=\"Helvetica,sans-Serif\" font-size=\"14.00\" fill=\"#000000\">samples = 1</text>\n<text text-anchor=\"middle\" x=\"468.5\" y=\"-967.3\" font-family=\"Helvetica,sans-Serif\" font-size=\"14.00\" fill=\"#000000\">value = [1, 0]</text>\n<text text-anchor=\"middle\" x=\"468.5\" y=\"-952.3\" font-family=\"Helvetica,sans-Serif\" font-size=\"14.00\" fill=\"#000000\">class = 0</text>\n</g>\n<!-- 14&#45;&gt;16 -->\n<g id=\"edge16\" class=\"edge\">\n<title>14&#45;&gt;16</title>\n<path fill=\"none\" stroke=\"#000000\" d=\"M428.1846,-1055.8796C433.9136,-1044.8835 440.1106,-1032.9893 445.8874,-1021.9015\"/>\n<polygon fill=\"#000000\" stroke=\"#000000\" points=\"449.105,-1023.3007 450.6216,-1012.8149 442.897,-1020.0662 449.105,-1023.3007\"/>\n</g>\n<!-- 19 -->\n<g id=\"node20\" class=\"node\">\n<title>19</title>\n<path fill=\"#399de5\" stroke=\"#000000\" d=\"M538,-1607.5C538,-1607.5 461,-1607.5 461,-1607.5 455,-1607.5 449,-1601.5 449,-1595.5 449,-1595.5 449,-1551.5 449,-1551.5 449,-1545.5 455,-1539.5 461,-1539.5 461,-1539.5 538,-1539.5 538,-1539.5 544,-1539.5 550,-1545.5 550,-1551.5 550,-1551.5 550,-1595.5 550,-1595.5 550,-1601.5 544,-1607.5 538,-1607.5\"/>\n<text text-anchor=\"middle\" x=\"499.5\" y=\"-1592.3\" font-family=\"Helvetica,sans-Serif\" font-size=\"14.00\" fill=\"#000000\">entropy = 0.0</text>\n<text text-anchor=\"middle\" x=\"499.5\" y=\"-1577.3\" font-family=\"Helvetica,sans-Serif\" font-size=\"14.00\" fill=\"#000000\">samples = 6</text>\n<text text-anchor=\"middle\" x=\"499.5\" y=\"-1562.3\" font-family=\"Helvetica,sans-Serif\" font-size=\"14.00\" fill=\"#000000\">value = [0, 6]</text>\n<text text-anchor=\"middle\" x=\"499.5\" y=\"-1547.3\" font-family=\"Helvetica,sans-Serif\" font-size=\"14.00\" fill=\"#000000\">class = 1</text>\n</g>\n<!-- 18&#45;&gt;19 -->\n<g id=\"edge19\" class=\"edge\">\n<title>18&#45;&gt;19</title>\n<path fill=\"none\" stroke=\"#000000\" d=\"M500.1502,-1650.8796C500.0606,-1640.2134 499.9639,-1628.7021 499.8731,-1617.9015\"/>\n<polygon fill=\"#000000\" stroke=\"#000000\" points=\"503.3724,-1617.7851 499.7884,-1607.8149 496.3726,-1617.844 503.3724,-1617.7851\"/>\n</g>\n<!-- 20 -->\n<g id=\"node21\" class=\"node\">\n<title>20</title>\n<path fill=\"#f6d5bd\" stroke=\"#000000\" d=\"M674.5,-1615C674.5,-1615 580.5,-1615 580.5,-1615 574.5,-1615 568.5,-1609 568.5,-1603 568.5,-1603 568.5,-1544 568.5,-1544 568.5,-1538 574.5,-1532 580.5,-1532 580.5,-1532 674.5,-1532 674.5,-1532 680.5,-1532 686.5,-1538 686.5,-1544 686.5,-1544 686.5,-1603 686.5,-1603 686.5,-1609 680.5,-1615 674.5,-1615\"/>\n<text text-anchor=\"middle\" x=\"627.5\" y=\"-1599.8\" font-family=\"Helvetica,sans-Serif\" font-size=\"14.00\" fill=\"#000000\">Fare &lt;= 10.325</text>\n<text text-anchor=\"middle\" x=\"627.5\" y=\"-1584.8\" font-family=\"Helvetica,sans-Serif\" font-size=\"14.00\" fill=\"#000000\">entropy = 0.971</text>\n<text text-anchor=\"middle\" x=\"627.5\" y=\"-1569.8\" font-family=\"Helvetica,sans-Serif\" font-size=\"14.00\" fill=\"#000000\">samples = 70</text>\n<text text-anchor=\"middle\" x=\"627.5\" y=\"-1554.8\" font-family=\"Helvetica,sans-Serif\" font-size=\"14.00\" fill=\"#000000\">value = [42, 28]</text>\n<text text-anchor=\"middle\" x=\"627.5\" y=\"-1539.8\" font-family=\"Helvetica,sans-Serif\" font-size=\"14.00\" fill=\"#000000\">class = 0</text>\n</g>\n<!-- 18&#45;&gt;20 -->\n<g id=\"edge20\" class=\"edge\">\n<title>18&#45;&gt;20</title>\n<path fill=\"none\" stroke=\"#000000\" d=\"M544.9184,-1650.8796C554.8186,-1641.6031 565.4009,-1631.6874 575.5731,-1622.1559\"/>\n<polygon fill=\"#000000\" stroke=\"#000000\" points=\"577.9879,-1624.6896 582.892,-1615.2981 573.2016,-1619.5816 577.9879,-1624.6896\"/>\n</g>\n<!-- 21 -->\n<g id=\"node22\" class=\"node\">\n<title>21</title>\n<path fill=\"#e58139\" stroke=\"#000000\" d=\"M665,-1488.5C665,-1488.5 588,-1488.5 588,-1488.5 582,-1488.5 576,-1482.5 576,-1476.5 576,-1476.5 576,-1432.5 576,-1432.5 576,-1426.5 582,-1420.5 588,-1420.5 588,-1420.5 665,-1420.5 665,-1420.5 671,-1420.5 677,-1426.5 677,-1432.5 677,-1432.5 677,-1476.5 677,-1476.5 677,-1482.5 671,-1488.5 665,-1488.5\"/>\n<text text-anchor=\"middle\" x=\"626.5\" y=\"-1473.3\" font-family=\"Helvetica,sans-Serif\" font-size=\"14.00\" fill=\"#000000\">entropy = 0.0</text>\n<text text-anchor=\"middle\" x=\"626.5\" y=\"-1458.3\" font-family=\"Helvetica,sans-Serif\" font-size=\"14.00\" fill=\"#000000\">samples = 6</text>\n<text text-anchor=\"middle\" x=\"626.5\" y=\"-1443.3\" font-family=\"Helvetica,sans-Serif\" font-size=\"14.00\" fill=\"#000000\">value = [6, 0]</text>\n<text text-anchor=\"middle\" x=\"626.5\" y=\"-1428.3\" font-family=\"Helvetica,sans-Serif\" font-size=\"14.00\" fill=\"#000000\">class = 0</text>\n</g>\n<!-- 20&#45;&gt;21 -->\n<g id=\"edge21\" class=\"edge\">\n<title>20&#45;&gt;21</title>\n<path fill=\"none\" stroke=\"#000000\" d=\"M627.1502,-1531.8796C627.0606,-1521.2134 626.9639,-1509.7021 626.8731,-1498.9015\"/>\n<polygon fill=\"#000000\" stroke=\"#000000\" points=\"630.3724,-1498.7851 626.7884,-1488.8149 623.3726,-1498.844 630.3724,-1498.7851\"/>\n</g>\n<!-- 22 -->\n<g id=\"node23\" class=\"node\">\n<title>22</title>\n<path fill=\"#f9e3d3\" stroke=\"#000000\" d=\"M801.5,-1496C801.5,-1496 707.5,-1496 707.5,-1496 701.5,-1496 695.5,-1490 695.5,-1484 695.5,-1484 695.5,-1425 695.5,-1425 695.5,-1419 701.5,-1413 707.5,-1413 707.5,-1413 801.5,-1413 801.5,-1413 807.5,-1413 813.5,-1419 813.5,-1425 813.5,-1425 813.5,-1484 813.5,-1484 813.5,-1490 807.5,-1496 801.5,-1496\"/>\n<text text-anchor=\"middle\" x=\"754.5\" y=\"-1480.8\" font-family=\"Helvetica,sans-Serif\" font-size=\"14.00\" fill=\"#000000\">Age &lt;= 57.0</text>\n<text text-anchor=\"middle\" x=\"754.5\" y=\"-1465.8\" font-family=\"Helvetica,sans-Serif\" font-size=\"14.00\" fill=\"#000000\">entropy = 0.989</text>\n<text text-anchor=\"middle\" x=\"754.5\" y=\"-1450.8\" font-family=\"Helvetica,sans-Serif\" font-size=\"14.00\" fill=\"#000000\">samples = 64</text>\n<text text-anchor=\"middle\" x=\"754.5\" y=\"-1435.8\" font-family=\"Helvetica,sans-Serif\" font-size=\"14.00\" fill=\"#000000\">value = [36, 28]</text>\n<text text-anchor=\"middle\" x=\"754.5\" y=\"-1420.8\" font-family=\"Helvetica,sans-Serif\" font-size=\"14.00\" fill=\"#000000\">class = 0</text>\n</g>\n<!-- 20&#45;&gt;22 -->\n<g id=\"edge22\" class=\"edge\">\n<title>20&#45;&gt;22</title>\n<path fill=\"none\" stroke=\"#000000\" d=\"M671.9184,-1531.8796C681.8186,-1522.6031 692.4009,-1512.6874 702.5731,-1503.1559\"/>\n<polygon fill=\"#000000\" stroke=\"#000000\" points=\"704.9879,-1505.6896 709.892,-1496.2981 700.2016,-1500.5816 704.9879,-1505.6896\"/>\n</g>\n<!-- 23 -->\n<g id=\"node24\" class=\"node\">\n<title>23</title>\n<path fill=\"#fefaf8\" stroke=\"#000000\" d=\"M800.5,-1377C800.5,-1377 708.5,-1377 708.5,-1377 702.5,-1377 696.5,-1371 696.5,-1365 696.5,-1365 696.5,-1306 696.5,-1306 696.5,-1300 702.5,-1294 708.5,-1294 708.5,-1294 800.5,-1294 800.5,-1294 806.5,-1294 812.5,-1300 812.5,-1306 812.5,-1306 812.5,-1365 812.5,-1365 812.5,-1371 806.5,-1377 800.5,-1377\"/>\n<text text-anchor=\"middle\" x=\"754.5\" y=\"-1361.8\" font-family=\"Helvetica,sans-Serif\" font-size=\"14.00\" fill=\"#000000\">Age &lt;= 22.0</text>\n<text text-anchor=\"middle\" x=\"754.5\" y=\"-1346.8\" font-family=\"Helvetica,sans-Serif\" font-size=\"14.00\" fill=\"#000000\">entropy = 1.0</text>\n<text text-anchor=\"middle\" x=\"754.5\" y=\"-1331.8\" font-family=\"Helvetica,sans-Serif\" font-size=\"14.00\" fill=\"#000000\">samples = 55</text>\n<text text-anchor=\"middle\" x=\"754.5\" y=\"-1316.8\" font-family=\"Helvetica,sans-Serif\" font-size=\"14.00\" fill=\"#000000\">value = [28, 27]</text>\n<text text-anchor=\"middle\" x=\"754.5\" y=\"-1301.8\" font-family=\"Helvetica,sans-Serif\" font-size=\"14.00\" fill=\"#000000\">class = 0</text>\n</g>\n<!-- 22&#45;&gt;23 -->\n<g id=\"edge23\" class=\"edge\">\n<title>22&#45;&gt;23</title>\n<path fill=\"none\" stroke=\"#000000\" d=\"M754.5,-1412.8796C754.5,-1404.6838 754.5,-1395.9891 754.5,-1387.5013\"/>\n<polygon fill=\"#000000\" stroke=\"#000000\" points=\"758.0001,-1387.298 754.5,-1377.2981 751.0001,-1387.2981 758.0001,-1387.298\"/>\n</g>\n<!-- 60 -->\n<g id=\"node61\" class=\"node\">\n<title>60</title>\n<path fill=\"#e89152\" stroke=\"#000000\" d=\"M936.5,-1377C936.5,-1377 842.5,-1377 842.5,-1377 836.5,-1377 830.5,-1371 830.5,-1365 830.5,-1365 830.5,-1306 830.5,-1306 830.5,-1300 836.5,-1294 842.5,-1294 842.5,-1294 936.5,-1294 936.5,-1294 942.5,-1294 948.5,-1300 948.5,-1306 948.5,-1306 948.5,-1365 948.5,-1365 948.5,-1371 942.5,-1377 936.5,-1377\"/>\n<text text-anchor=\"middle\" x=\"889.5\" y=\"-1361.8\" font-family=\"Helvetica,sans-Serif\" font-size=\"14.00\" fill=\"#000000\">Age &lt;= 75.5</text>\n<text text-anchor=\"middle\" x=\"889.5\" y=\"-1346.8\" font-family=\"Helvetica,sans-Serif\" font-size=\"14.00\" fill=\"#000000\">entropy = 0.503</text>\n<text text-anchor=\"middle\" x=\"889.5\" y=\"-1331.8\" font-family=\"Helvetica,sans-Serif\" font-size=\"14.00\" fill=\"#000000\">samples = 9</text>\n<text text-anchor=\"middle\" x=\"889.5\" y=\"-1316.8\" font-family=\"Helvetica,sans-Serif\" font-size=\"14.00\" fill=\"#000000\">value = [8, 1]</text>\n<text text-anchor=\"middle\" x=\"889.5\" y=\"-1301.8\" font-family=\"Helvetica,sans-Serif\" font-size=\"14.00\" fill=\"#000000\">class = 0</text>\n</g>\n<!-- 22&#45;&gt;60 -->\n<g id=\"edge60\" class=\"edge\">\n<title>22&#45;&gt;60</title>\n<path fill=\"none\" stroke=\"#000000\" d=\"M801.7164,-1412.8796C812.2402,-1403.6031 823.4891,-1393.6874 834.3021,-1384.1559\"/>\n<polygon fill=\"#000000\" stroke=\"#000000\" points=\"836.8948,-1386.5362 842.082,-1377.2981 832.266,-1381.2851 836.8948,-1386.5362\"/>\n</g>\n<!-- 24 -->\n<g id=\"node25\" class=\"node\">\n<title>24</title>\n<path fill=\"#e58139\" stroke=\"#000000\" d=\"M670,-1250.5C670,-1250.5 593,-1250.5 593,-1250.5 587,-1250.5 581,-1244.5 581,-1238.5 581,-1238.5 581,-1194.5 581,-1194.5 581,-1188.5 587,-1182.5 593,-1182.5 593,-1182.5 670,-1182.5 670,-1182.5 676,-1182.5 682,-1188.5 682,-1194.5 682,-1194.5 682,-1238.5 682,-1238.5 682,-1244.5 676,-1250.5 670,-1250.5\"/>\n<text text-anchor=\"middle\" x=\"631.5\" y=\"-1235.3\" font-family=\"Helvetica,sans-Serif\" font-size=\"14.00\" fill=\"#000000\">entropy = 0.0</text>\n<text text-anchor=\"middle\" x=\"631.5\" y=\"-1220.3\" font-family=\"Helvetica,sans-Serif\" font-size=\"14.00\" fill=\"#000000\">samples = 3</text>\n<text text-anchor=\"middle\" x=\"631.5\" y=\"-1205.3\" font-family=\"Helvetica,sans-Serif\" font-size=\"14.00\" fill=\"#000000\">value = [3, 0]</text>\n<text text-anchor=\"middle\" x=\"631.5\" y=\"-1190.3\" font-family=\"Helvetica,sans-Serif\" font-size=\"14.00\" fill=\"#000000\">class = 0</text>\n</g>\n<!-- 23&#45;&gt;24 -->\n<g id=\"edge24\" class=\"edge\">\n<title>23&#45;&gt;24</title>\n<path fill=\"none\" stroke=\"#000000\" d=\"M711.4806,-1293.8796C699.4329,-1282.2237 686.3422,-1269.5587 674.3069,-1257.9148\"/>\n<polygon fill=\"#000000\" stroke=\"#000000\" points=\"676.589,-1255.2528 666.9684,-1250.8149 671.7217,-1260.2837 676.589,-1255.2528\"/>\n</g>\n<!-- 25 -->\n<g id=\"node26\" class=\"node\">\n<title>25</title>\n<path fill=\"#f0f8fd\" stroke=\"#000000\" d=\"M806.5,-1258C806.5,-1258 712.5,-1258 712.5,-1258 706.5,-1258 700.5,-1252 700.5,-1246 700.5,-1246 700.5,-1187 700.5,-1187 700.5,-1181 706.5,-1175 712.5,-1175 712.5,-1175 806.5,-1175 806.5,-1175 812.5,-1175 818.5,-1181 818.5,-1187 818.5,-1187 818.5,-1246 818.5,-1246 818.5,-1252 812.5,-1258 806.5,-1258\"/>\n<text text-anchor=\"middle\" x=\"759.5\" y=\"-1242.8\" font-family=\"Helvetica,sans-Serif\" font-size=\"14.00\" fill=\"#000000\">Age &lt;= 28.5</text>\n<text text-anchor=\"middle\" x=\"759.5\" y=\"-1227.8\" font-family=\"Helvetica,sans-Serif\" font-size=\"14.00\" fill=\"#000000\">entropy = 0.999</text>\n<text text-anchor=\"middle\" x=\"759.5\" y=\"-1212.8\" font-family=\"Helvetica,sans-Serif\" font-size=\"14.00\" fill=\"#000000\">samples = 52</text>\n<text text-anchor=\"middle\" x=\"759.5\" y=\"-1197.8\" font-family=\"Helvetica,sans-Serif\" font-size=\"14.00\" fill=\"#000000\">value = [25, 27]</text>\n<text text-anchor=\"middle\" x=\"759.5\" y=\"-1182.8\" font-family=\"Helvetica,sans-Serif\" font-size=\"14.00\" fill=\"#000000\">class = 1</text>\n</g>\n<!-- 23&#45;&gt;25 -->\n<g id=\"edge25\" class=\"edge\">\n<title>23&#45;&gt;25</title>\n<path fill=\"none\" stroke=\"#000000\" d=\"M756.2488,-1293.8796C756.5931,-1285.6838 756.9584,-1276.9891 757.3151,-1268.5013\"/>\n<polygon fill=\"#000000\" stroke=\"#000000\" points=\"760.8208,-1268.4362 757.7438,-1258.2981 753.827,-1268.1423 760.8208,-1268.4362\"/>\n</g>\n<!-- 26 -->\n<g id=\"node27\" class=\"node\">\n<title>26</title>\n<path fill=\"#72b9ec\" stroke=\"#000000\" d=\"M768.5,-1139C768.5,-1139 674.5,-1139 674.5,-1139 668.5,-1139 662.5,-1133 662.5,-1127 662.5,-1127 662.5,-1068 662.5,-1068 662.5,-1062 668.5,-1056 674.5,-1056 674.5,-1056 768.5,-1056 768.5,-1056 774.5,-1056 780.5,-1062 780.5,-1068 780.5,-1068 780.5,-1127 780.5,-1127 780.5,-1133 774.5,-1139 768.5,-1139\"/>\n<text text-anchor=\"middle\" x=\"721.5\" y=\"-1123.8\" font-family=\"Helvetica,sans-Serif\" font-size=\"14.00\" fill=\"#000000\">Fare &lt;= 151.29</text>\n<text text-anchor=\"middle\" x=\"721.5\" y=\"-1108.8\" font-family=\"Helvetica,sans-Serif\" font-size=\"14.00\" fill=\"#000000\">entropy = 0.764</text>\n<text text-anchor=\"middle\" x=\"721.5\" y=\"-1093.8\" font-family=\"Helvetica,sans-Serif\" font-size=\"14.00\" fill=\"#000000\">samples = 9</text>\n<text text-anchor=\"middle\" x=\"721.5\" y=\"-1078.8\" font-family=\"Helvetica,sans-Serif\" font-size=\"14.00\" fill=\"#000000\">value = [2, 7]</text>\n<text text-anchor=\"middle\" x=\"721.5\" y=\"-1063.8\" font-family=\"Helvetica,sans-Serif\" font-size=\"14.00\" fill=\"#000000\">class = 1</text>\n</g>\n<!-- 25&#45;&gt;26 -->\n<g id=\"edge26\" class=\"edge\">\n<title>25&#45;&gt;26</title>\n<path fill=\"none\" stroke=\"#000000\" d=\"M746.2094,-1174.8796C743.5348,-1166.5037 740.6937,-1157.6067 737.9269,-1148.942\"/>\n<polygon fill=\"#000000\" stroke=\"#000000\" points=\"741.2234,-1147.7595 734.8473,-1139.2981 734.5552,-1149.8889 741.2234,-1147.7595\"/>\n</g>\n<!-- 29 -->\n<g id=\"node30\" class=\"node\">\n<title>29</title>\n<path fill=\"#fcefe5\" stroke=\"#000000\" d=\"M904.5,-1139C904.5,-1139 810.5,-1139 810.5,-1139 804.5,-1139 798.5,-1133 798.5,-1127 798.5,-1127 798.5,-1068 798.5,-1068 798.5,-1062 804.5,-1056 810.5,-1056 810.5,-1056 904.5,-1056 904.5,-1056 910.5,-1056 916.5,-1062 916.5,-1068 916.5,-1068 916.5,-1127 916.5,-1127 916.5,-1133 910.5,-1139 904.5,-1139\"/>\n<text text-anchor=\"middle\" x=\"857.5\" y=\"-1123.8\" font-family=\"Helvetica,sans-Serif\" font-size=\"14.00\" fill=\"#000000\">Age &lt;= 30.5</text>\n<text text-anchor=\"middle\" x=\"857.5\" y=\"-1108.8\" font-family=\"Helvetica,sans-Serif\" font-size=\"14.00\" fill=\"#000000\">entropy = 0.996</text>\n<text text-anchor=\"middle\" x=\"857.5\" y=\"-1093.8\" font-family=\"Helvetica,sans-Serif\" font-size=\"14.00\" fill=\"#000000\">samples = 43</text>\n<text text-anchor=\"middle\" x=\"857.5\" y=\"-1078.8\" font-family=\"Helvetica,sans-Serif\" font-size=\"14.00\" fill=\"#000000\">value = [23, 20]</text>\n<text text-anchor=\"middle\" x=\"857.5\" y=\"-1063.8\" font-family=\"Helvetica,sans-Serif\" font-size=\"14.00\" fill=\"#000000\">class = 0</text>\n</g>\n<!-- 25&#45;&gt;29 -->\n<g id=\"edge29\" class=\"edge\">\n<title>25&#45;&gt;29</title>\n<path fill=\"none\" stroke=\"#000000\" d=\"M793.7756,-1174.8796C801.1184,-1165.9633 808.9476,-1156.4565 816.5146,-1147.268\"/>\n<polygon fill=\"#000000\" stroke=\"#000000\" points=\"819.4227,-1149.2424 823.0781,-1139.2981 814.0192,-1144.7924 819.4227,-1149.2424\"/>\n</g>\n<!-- 27 -->\n<g id=\"node28\" class=\"node\">\n<title>27</title>\n<path fill=\"#399de5\" stroke=\"#000000\" d=\"M646,-1012.5C646,-1012.5 569,-1012.5 569,-1012.5 563,-1012.5 557,-1006.5 557,-1000.5 557,-1000.5 557,-956.5 557,-956.5 557,-950.5 563,-944.5 569,-944.5 569,-944.5 646,-944.5 646,-944.5 652,-944.5 658,-950.5 658,-956.5 658,-956.5 658,-1000.5 658,-1000.5 658,-1006.5 652,-1012.5 646,-1012.5\"/>\n<text text-anchor=\"middle\" x=\"607.5\" y=\"-997.3\" font-family=\"Helvetica,sans-Serif\" font-size=\"14.00\" fill=\"#000000\">entropy = 0.0</text>\n<text text-anchor=\"middle\" x=\"607.5\" y=\"-982.3\" font-family=\"Helvetica,sans-Serif\" font-size=\"14.00\" fill=\"#000000\">samples = 7</text>\n<text text-anchor=\"middle\" x=\"607.5\" y=\"-967.3\" font-family=\"Helvetica,sans-Serif\" font-size=\"14.00\" fill=\"#000000\">value = [0, 7]</text>\n<text text-anchor=\"middle\" x=\"607.5\" y=\"-952.3\" font-family=\"Helvetica,sans-Serif\" font-size=\"14.00\" fill=\"#000000\">class = 1</text>\n</g>\n<!-- 26&#45;&gt;27 -->\n<g id=\"edge27\" class=\"edge\">\n<title>26&#45;&gt;27</title>\n<path fill=\"none\" stroke=\"#000000\" d=\"M681.6283,-1055.8796C670.5676,-1044.3337 658.5582,-1031.7976 647.4906,-1020.2446\"/>\n<polygon fill=\"#000000\" stroke=\"#000000\" points=\"649.8183,-1017.6149 640.3731,-1012.8149 644.7635,-1022.4573 649.8183,-1017.6149\"/>\n</g>\n<!-- 28 -->\n<g id=\"node29\" class=\"node\">\n<title>28</title>\n<path fill=\"#e58139\" stroke=\"#000000\" d=\"M765,-1012.5C765,-1012.5 688,-1012.5 688,-1012.5 682,-1012.5 676,-1006.5 676,-1000.5 676,-1000.5 676,-956.5 676,-956.5 676,-950.5 682,-944.5 688,-944.5 688,-944.5 765,-944.5 765,-944.5 771,-944.5 777,-950.5 777,-956.5 777,-956.5 777,-1000.5 777,-1000.5 777,-1006.5 771,-1012.5 765,-1012.5\"/>\n<text text-anchor=\"middle\" x=\"726.5\" y=\"-997.3\" font-family=\"Helvetica,sans-Serif\" font-size=\"14.00\" fill=\"#000000\">entropy = 0.0</text>\n<text text-anchor=\"middle\" x=\"726.5\" y=\"-982.3\" font-family=\"Helvetica,sans-Serif\" font-size=\"14.00\" fill=\"#000000\">samples = 2</text>\n<text text-anchor=\"middle\" x=\"726.5\" y=\"-967.3\" font-family=\"Helvetica,sans-Serif\" font-size=\"14.00\" fill=\"#000000\">value = [2, 0]</text>\n<text text-anchor=\"middle\" x=\"726.5\" y=\"-952.3\" font-family=\"Helvetica,sans-Serif\" font-size=\"14.00\" fill=\"#000000\">class = 0</text>\n</g>\n<!-- 26&#45;&gt;28 -->\n<g id=\"edge28\" class=\"edge\">\n<title>26&#45;&gt;28</title>\n<path fill=\"none\" stroke=\"#000000\" d=\"M723.2488,-1055.8796C723.6969,-1045.2134 724.1806,-1033.7021 724.6344,-1022.9015\"/>\n<polygon fill=\"#000000\" stroke=\"#000000\" points=\"728.1352,-1022.9531 725.0582,-1012.8149 721.1414,-1022.6592 728.1352,-1022.9531\"/>\n</g>\n<!-- 30 -->\n<g id=\"node31\" class=\"node\">\n<title>30</title>\n<path fill=\"#e58139\" stroke=\"#000000\" d=\"M892,-1012.5C892,-1012.5 815,-1012.5 815,-1012.5 809,-1012.5 803,-1006.5 803,-1000.5 803,-1000.5 803,-956.5 803,-956.5 803,-950.5 809,-944.5 815,-944.5 815,-944.5 892,-944.5 892,-944.5 898,-944.5 904,-950.5 904,-956.5 904,-956.5 904,-1000.5 904,-1000.5 904,-1006.5 898,-1012.5 892,-1012.5\"/>\n<text text-anchor=\"middle\" x=\"853.5\" y=\"-997.3\" font-family=\"Helvetica,sans-Serif\" font-size=\"14.00\" fill=\"#000000\">entropy = 0.0</text>\n<text text-anchor=\"middle\" x=\"853.5\" y=\"-982.3\" font-family=\"Helvetica,sans-Serif\" font-size=\"14.00\" fill=\"#000000\">samples = 3</text>\n<text text-anchor=\"middle\" x=\"853.5\" y=\"-967.3\" font-family=\"Helvetica,sans-Serif\" font-size=\"14.00\" fill=\"#000000\">value = [3, 0]</text>\n<text text-anchor=\"middle\" x=\"853.5\" y=\"-952.3\" font-family=\"Helvetica,sans-Serif\" font-size=\"14.00\" fill=\"#000000\">class = 0</text>\n</g>\n<!-- 29&#45;&gt;30 -->\n<g id=\"edge30\" class=\"edge\">\n<title>29&#45;&gt;30</title>\n<path fill=\"none\" stroke=\"#000000\" d=\"M856.101,-1055.8796C855.7425,-1045.2134 855.3555,-1033.7021 854.9925,-1022.9015\"/>\n<polygon fill=\"#000000\" stroke=\"#000000\" points=\"858.4875,-1022.6917 854.6534,-1012.8149 851.4915,-1022.9269 858.4875,-1022.6917\"/>\n</g>\n<!-- 31 -->\n<g id=\"node32\" class=\"node\">\n<title>31</title>\n<path fill=\"#ffffff\" stroke=\"#000000\" d=\"M1026.5,-1020C1026.5,-1020 934.5,-1020 934.5,-1020 928.5,-1020 922.5,-1014 922.5,-1008 922.5,-1008 922.5,-949 922.5,-949 922.5,-943 928.5,-937 934.5,-937 934.5,-937 1026.5,-937 1026.5,-937 1032.5,-937 1038.5,-943 1038.5,-949 1038.5,-949 1038.5,-1008 1038.5,-1008 1038.5,-1014 1032.5,-1020 1026.5,-1020\"/>\n<text text-anchor=\"middle\" x=\"980.5\" y=\"-1004.8\" font-family=\"Helvetica,sans-Serif\" font-size=\"14.00\" fill=\"#000000\">Age &lt;= 43.0</text>\n<text text-anchor=\"middle\" x=\"980.5\" y=\"-989.8\" font-family=\"Helvetica,sans-Serif\" font-size=\"14.00\" fill=\"#000000\">entropy = 1.0</text>\n<text text-anchor=\"middle\" x=\"980.5\" y=\"-974.8\" font-family=\"Helvetica,sans-Serif\" font-size=\"14.00\" fill=\"#000000\">samples = 40</text>\n<text text-anchor=\"middle\" x=\"980.5\" y=\"-959.8\" font-family=\"Helvetica,sans-Serif\" font-size=\"14.00\" fill=\"#000000\">value = [20, 20]</text>\n<text text-anchor=\"middle\" x=\"980.5\" y=\"-944.8\" font-family=\"Helvetica,sans-Serif\" font-size=\"14.00\" fill=\"#000000\">class = 0</text>\n</g>\n<!-- 29&#45;&gt;31 -->\n<g id=\"edge31\" class=\"edge\">\n<title>29&#45;&gt;31</title>\n<path fill=\"none\" stroke=\"#000000\" d=\"M900.5194,-1055.8796C910.0147,-1046.6931 920.1578,-1036.8798 929.9215,-1027.4336\"/>\n<polygon fill=\"#000000\" stroke=\"#000000\" points=\"932.5436,-1029.7668 937.297,-1020.2981 927.6763,-1024.7359 932.5436,-1029.7668\"/>\n</g>\n<!-- 32 -->\n<g id=\"node33\" class=\"node\">\n<title>32</title>\n<path fill=\"#acd6f4\" stroke=\"#000000\" d=\"M959.5,-901C959.5,-901 865.5,-901 865.5,-901 859.5,-901 853.5,-895 853.5,-889 853.5,-889 853.5,-830 853.5,-830 853.5,-824 859.5,-818 865.5,-818 865.5,-818 959.5,-818 959.5,-818 965.5,-818 971.5,-824 971.5,-830 971.5,-830 971.5,-889 971.5,-889 971.5,-895 965.5,-901 959.5,-901\"/>\n<text text-anchor=\"middle\" x=\"912.5\" y=\"-885.8\" font-family=\"Helvetica,sans-Serif\" font-size=\"14.00\" fill=\"#000000\">Age &lt;= 39.0</text>\n<text text-anchor=\"middle\" x=\"912.5\" y=\"-870.8\" font-family=\"Helvetica,sans-Serif\" font-size=\"14.00\" fill=\"#000000\">entropy = 0.949</text>\n<text text-anchor=\"middle\" x=\"912.5\" y=\"-855.8\" font-family=\"Helvetica,sans-Serif\" font-size=\"14.00\" fill=\"#000000\">samples = 19</text>\n<text text-anchor=\"middle\" x=\"912.5\" y=\"-840.8\" font-family=\"Helvetica,sans-Serif\" font-size=\"14.00\" fill=\"#000000\">value = [7, 12]</text>\n<text text-anchor=\"middle\" x=\"912.5\" y=\"-825.8\" font-family=\"Helvetica,sans-Serif\" font-size=\"14.00\" fill=\"#000000\">class = 1</text>\n</g>\n<!-- 31&#45;&gt;32 -->\n<g id=\"edge32\" class=\"edge\">\n<title>31&#45;&gt;32</title>\n<path fill=\"none\" stroke=\"#000000\" d=\"M956.7169,-936.8796C951.7763,-928.2335 946.5184,-919.0322 941.4167,-910.1042\"/>\n<polygon fill=\"#000000\" stroke=\"#000000\" points=\"944.3849,-908.244 936.3846,-901.2981 938.3072,-911.717 944.3849,-908.244\"/>\n</g>\n<!-- 45 -->\n<g id=\"node46\" class=\"node\">\n<title>45</title>\n<path fill=\"#f5cfb3\" stroke=\"#000000\" d=\"M1095.5,-901C1095.5,-901 1001.5,-901 1001.5,-901 995.5,-901 989.5,-895 989.5,-889 989.5,-889 989.5,-830 989.5,-830 989.5,-824 995.5,-818 1001.5,-818 1001.5,-818 1095.5,-818 1095.5,-818 1101.5,-818 1107.5,-824 1107.5,-830 1107.5,-830 1107.5,-889 1107.5,-889 1107.5,-895 1101.5,-901 1095.5,-901\"/>\n<text text-anchor=\"middle\" x=\"1048.5\" y=\"-885.8\" font-family=\"Helvetica,sans-Serif\" font-size=\"14.00\" fill=\"#000000\">Age &lt;= 47.5</text>\n<text text-anchor=\"middle\" x=\"1048.5\" y=\"-870.8\" font-family=\"Helvetica,sans-Serif\" font-size=\"14.00\" fill=\"#000000\">entropy = 0.959</text>\n<text text-anchor=\"middle\" x=\"1048.5\" y=\"-855.8\" font-family=\"Helvetica,sans-Serif\" font-size=\"14.00\" fill=\"#000000\">samples = 21</text>\n<text text-anchor=\"middle\" x=\"1048.5\" y=\"-840.8\" font-family=\"Helvetica,sans-Serif\" font-size=\"14.00\" fill=\"#000000\">value = [13, 8]</text>\n<text text-anchor=\"middle\" x=\"1048.5\" y=\"-825.8\" font-family=\"Helvetica,sans-Serif\" font-size=\"14.00\" fill=\"#000000\">class = 0</text>\n</g>\n<!-- 31&#45;&gt;45 -->\n<g id=\"edge45\" class=\"edge\">\n<title>31&#45;&gt;45</title>\n<path fill=\"none\" stroke=\"#000000\" d=\"M1004.2831,-936.8796C1009.2237,-928.2335 1014.4816,-919.0322 1019.5833,-910.1042\"/>\n<polygon fill=\"#000000\" stroke=\"#000000\" points=\"1022.6928,-911.717 1024.6154,-901.2981 1016.6151,-908.244 1022.6928,-911.717\"/>\n</g>\n<!-- 33 -->\n<g id=\"node34\" class=\"node\">\n<title>33</title>\n<path fill=\"#d3e9f9\" stroke=\"#000000\" d=\"M836.5,-782C836.5,-782 742.5,-782 742.5,-782 736.5,-782 730.5,-776 730.5,-770 730.5,-770 730.5,-711 730.5,-711 730.5,-705 736.5,-699 742.5,-699 742.5,-699 836.5,-699 836.5,-699 842.5,-699 848.5,-705 848.5,-711 848.5,-711 848.5,-770 848.5,-770 848.5,-776 842.5,-782 836.5,-782\"/>\n<text text-anchor=\"middle\" x=\"789.5\" y=\"-766.8\" font-family=\"Helvetica,sans-Serif\" font-size=\"14.00\" fill=\"#000000\">Age &lt;= 36.25</text>\n<text text-anchor=\"middle\" x=\"789.5\" y=\"-751.8\" font-family=\"Helvetica,sans-Serif\" font-size=\"14.00\" fill=\"#000000\">entropy = 0.989</text>\n<text text-anchor=\"middle\" x=\"789.5\" y=\"-736.8\" font-family=\"Helvetica,sans-Serif\" font-size=\"14.00\" fill=\"#000000\">samples = 16</text>\n<text text-anchor=\"middle\" x=\"789.5\" y=\"-721.8\" font-family=\"Helvetica,sans-Serif\" font-size=\"14.00\" fill=\"#000000\">value = [7, 9]</text>\n<text text-anchor=\"middle\" x=\"789.5\" y=\"-706.8\" font-family=\"Helvetica,sans-Serif\" font-size=\"14.00\" fill=\"#000000\">class = 1</text>\n</g>\n<!-- 32&#45;&gt;33 -->\n<g id=\"edge33\" class=\"edge\">\n<title>32&#45;&gt;33</title>\n<path fill=\"none\" stroke=\"#000000\" d=\"M869.4806,-817.8796C859.9853,-808.6931 849.8422,-798.8798 840.0785,-789.4336\"/>\n<polygon fill=\"#000000\" stroke=\"#000000\" points=\"842.3237,-786.7359 832.703,-782.2981 837.4564,-791.7668 842.3237,-786.7359\"/>\n</g>\n<!-- 44 -->\n<g id=\"node45\" class=\"node\">\n<title>44</title>\n<path fill=\"#399de5\" stroke=\"#000000\" d=\"M956,-774.5C956,-774.5 879,-774.5 879,-774.5 873,-774.5 867,-768.5 867,-762.5 867,-762.5 867,-718.5 867,-718.5 867,-712.5 873,-706.5 879,-706.5 879,-706.5 956,-706.5 956,-706.5 962,-706.5 968,-712.5 968,-718.5 968,-718.5 968,-762.5 968,-762.5 968,-768.5 962,-774.5 956,-774.5\"/>\n<text text-anchor=\"middle\" x=\"917.5\" y=\"-759.3\" font-family=\"Helvetica,sans-Serif\" font-size=\"14.00\" fill=\"#000000\">entropy = 0.0</text>\n<text text-anchor=\"middle\" x=\"917.5\" y=\"-744.3\" font-family=\"Helvetica,sans-Serif\" font-size=\"14.00\" fill=\"#000000\">samples = 3</text>\n<text text-anchor=\"middle\" x=\"917.5\" y=\"-729.3\" font-family=\"Helvetica,sans-Serif\" font-size=\"14.00\" fill=\"#000000\">value = [0, 3]</text>\n<text text-anchor=\"middle\" x=\"917.5\" y=\"-714.3\" font-family=\"Helvetica,sans-Serif\" font-size=\"14.00\" fill=\"#000000\">class = 1</text>\n</g>\n<!-- 32&#45;&gt;44 -->\n<g id=\"edge44\" class=\"edge\">\n<title>32&#45;&gt;44</title>\n<path fill=\"none\" stroke=\"#000000\" d=\"M914.2488,-817.8796C914.6969,-807.2134 915.1806,-795.7021 915.6344,-784.9015\"/>\n<polygon fill=\"#000000\" stroke=\"#000000\" points=\"919.1352,-784.9531 916.0582,-774.8149 912.1414,-784.6592 919.1352,-784.9531\"/>\n</g>\n<!-- 34 -->\n<g id=\"node35\" class=\"node\">\n<title>34</title>\n<path fill=\"#8ec7f0\" stroke=\"#000000\" d=\"M721.5,-663C721.5,-663 627.5,-663 627.5,-663 621.5,-663 615.5,-657 615.5,-651 615.5,-651 615.5,-592 615.5,-592 615.5,-586 621.5,-580 627.5,-580 627.5,-580 721.5,-580 721.5,-580 727.5,-580 733.5,-586 733.5,-592 733.5,-592 733.5,-651 733.5,-651 733.5,-657 727.5,-663 721.5,-663\"/>\n<text text-anchor=\"middle\" x=\"674.5\" y=\"-647.8\" font-family=\"Helvetica,sans-Serif\" font-size=\"14.00\" fill=\"#000000\">Fare &lt;= 35.312</text>\n<text text-anchor=\"middle\" x=\"674.5\" y=\"-632.8\" font-family=\"Helvetica,sans-Serif\" font-size=\"14.00\" fill=\"#000000\">entropy = 0.881</text>\n<text text-anchor=\"middle\" x=\"674.5\" y=\"-617.8\" font-family=\"Helvetica,sans-Serif\" font-size=\"14.00\" fill=\"#000000\">samples = 10</text>\n<text text-anchor=\"middle\" x=\"674.5\" y=\"-602.8\" font-family=\"Helvetica,sans-Serif\" font-size=\"14.00\" fill=\"#000000\">value = [3, 7]</text>\n<text text-anchor=\"middle\" x=\"674.5\" y=\"-587.8\" font-family=\"Helvetica,sans-Serif\" font-size=\"14.00\" fill=\"#000000\">class = 1</text>\n</g>\n<!-- 33&#45;&gt;34 -->\n<g id=\"edge34\" class=\"edge\">\n<title>33&#45;&gt;34</title>\n<path fill=\"none\" stroke=\"#000000\" d=\"M749.2786,-698.8796C740.488,-689.7832 731.1034,-680.0722 722.0574,-670.7116\"/>\n<polygon fill=\"#000000\" stroke=\"#000000\" points=\"724.3591,-668.0568 714.8931,-663.2981 719.3255,-672.9212 724.3591,-668.0568\"/>\n</g>\n<!-- 39 -->\n<g id=\"node40\" class=\"node\">\n<title>39</title>\n<path fill=\"#f2c09c\" stroke=\"#000000\" d=\"M857.5,-663C857.5,-663 763.5,-663 763.5,-663 757.5,-663 751.5,-657 751.5,-651 751.5,-651 751.5,-592 751.5,-592 751.5,-586 757.5,-580 763.5,-580 763.5,-580 857.5,-580 857.5,-580 863.5,-580 869.5,-586 869.5,-592 869.5,-592 869.5,-651 869.5,-651 869.5,-657 863.5,-663 857.5,-663\"/>\n<text text-anchor=\"middle\" x=\"810.5\" y=\"-647.8\" font-family=\"Helvetica,sans-Serif\" font-size=\"14.00\" fill=\"#000000\">SibSp &lt;= 0.5</text>\n<text text-anchor=\"middle\" x=\"810.5\" y=\"-632.8\" font-family=\"Helvetica,sans-Serif\" font-size=\"14.00\" fill=\"#000000\">entropy = 0.918</text>\n<text text-anchor=\"middle\" x=\"810.5\" y=\"-617.8\" font-family=\"Helvetica,sans-Serif\" font-size=\"14.00\" fill=\"#000000\">samples = 6</text>\n<text text-anchor=\"middle\" x=\"810.5\" y=\"-602.8\" font-family=\"Helvetica,sans-Serif\" font-size=\"14.00\" fill=\"#000000\">value = [4, 2]</text>\n<text text-anchor=\"middle\" x=\"810.5\" y=\"-587.8\" font-family=\"Helvetica,sans-Serif\" font-size=\"14.00\" fill=\"#000000\">class = 0</text>\n</g>\n<!-- 33&#45;&gt;39 -->\n<g id=\"edge39\" class=\"edge\">\n<title>33&#45;&gt;39</title>\n<path fill=\"none\" stroke=\"#000000\" d=\"M796.8448,-698.8796C798.307,-690.5938 799.8592,-681.798 801.3727,-673.2216\"/>\n<polygon fill=\"#000000\" stroke=\"#000000\" points=\"804.8327,-673.7542 803.1239,-663.2981 797.9392,-672.5376 804.8327,-673.7542\"/>\n</g>\n<!-- 35 -->\n<g id=\"node36\" class=\"node\">\n<title>35</title>\n<path fill=\"#399de5\" stroke=\"#000000\" d=\"M599,-536.5C599,-536.5 522,-536.5 522,-536.5 516,-536.5 510,-530.5 510,-524.5 510,-524.5 510,-480.5 510,-480.5 510,-474.5 516,-468.5 522,-468.5 522,-468.5 599,-468.5 599,-468.5 605,-468.5 611,-474.5 611,-480.5 611,-480.5 611,-524.5 611,-524.5 611,-530.5 605,-536.5 599,-536.5\"/>\n<text text-anchor=\"middle\" x=\"560.5\" y=\"-521.3\" font-family=\"Helvetica,sans-Serif\" font-size=\"14.00\" fill=\"#000000\">entropy = 0.0</text>\n<text text-anchor=\"middle\" x=\"560.5\" y=\"-506.3\" font-family=\"Helvetica,sans-Serif\" font-size=\"14.00\" fill=\"#000000\">samples = 4</text>\n<text text-anchor=\"middle\" x=\"560.5\" y=\"-491.3\" font-family=\"Helvetica,sans-Serif\" font-size=\"14.00\" fill=\"#000000\">value = [0, 4]</text>\n<text text-anchor=\"middle\" x=\"560.5\" y=\"-476.3\" font-family=\"Helvetica,sans-Serif\" font-size=\"14.00\" fill=\"#000000\">class = 1</text>\n</g>\n<!-- 34&#45;&gt;35 -->\n<g id=\"edge35\" class=\"edge\">\n<title>34&#45;&gt;35</title>\n<path fill=\"none\" stroke=\"#000000\" d=\"M634.6283,-579.8796C623.5676,-568.3337 611.5582,-555.7976 600.4906,-544.2446\"/>\n<polygon fill=\"#000000\" stroke=\"#000000\" points=\"602.8183,-541.6149 593.3731,-536.8149 597.7635,-546.4573 602.8183,-541.6149\"/>\n</g>\n<!-- 36 -->\n<g id=\"node37\" class=\"node\">\n<title>36</title>\n<path fill=\"#ffffff\" stroke=\"#000000\" d=\"M718,-544C718,-544 641,-544 641,-544 635,-544 629,-538 629,-532 629,-532 629,-473 629,-473 629,-467 635,-461 641,-461 641,-461 718,-461 718,-461 724,-461 730,-467 730,-473 730,-473 730,-532 730,-532 730,-538 724,-544 718,-544\"/>\n<text text-anchor=\"middle\" x=\"679.5\" y=\"-528.8\" font-family=\"Helvetica,sans-Serif\" font-size=\"14.00\" fill=\"#000000\">Fare &lt;= 54.5</text>\n<text text-anchor=\"middle\" x=\"679.5\" y=\"-513.8\" font-family=\"Helvetica,sans-Serif\" font-size=\"14.00\" fill=\"#000000\">entropy = 1.0</text>\n<text text-anchor=\"middle\" x=\"679.5\" y=\"-498.8\" font-family=\"Helvetica,sans-Serif\" font-size=\"14.00\" fill=\"#000000\">samples = 6</text>\n<text text-anchor=\"middle\" x=\"679.5\" y=\"-483.8\" font-family=\"Helvetica,sans-Serif\" font-size=\"14.00\" fill=\"#000000\">value = [3, 3]</text>\n<text text-anchor=\"middle\" x=\"679.5\" y=\"-468.8\" font-family=\"Helvetica,sans-Serif\" font-size=\"14.00\" fill=\"#000000\">class = 0</text>\n</g>\n<!-- 34&#45;&gt;36 -->\n<g id=\"edge36\" class=\"edge\">\n<title>34&#45;&gt;36</title>\n<path fill=\"none\" stroke=\"#000000\" d=\"M676.2488,-579.8796C676.5931,-571.6838 676.9584,-562.9891 677.3151,-554.5013\"/>\n<polygon fill=\"#000000\" stroke=\"#000000\" points=\"680.8208,-554.4362 677.7438,-544.2981 673.827,-554.1423 680.8208,-554.4362\"/>\n</g>\n<!-- 37 -->\n<g id=\"node38\" class=\"node\">\n<title>37</title>\n<path fill=\"#e58139\" stroke=\"#000000\" d=\"M691,-417.5C691,-417.5 614,-417.5 614,-417.5 608,-417.5 602,-411.5 602,-405.5 602,-405.5 602,-361.5 602,-361.5 602,-355.5 608,-349.5 614,-349.5 614,-349.5 691,-349.5 691,-349.5 697,-349.5 703,-355.5 703,-361.5 703,-361.5 703,-405.5 703,-405.5 703,-411.5 697,-417.5 691,-417.5\"/>\n<text text-anchor=\"middle\" x=\"652.5\" y=\"-402.3\" font-family=\"Helvetica,sans-Serif\" font-size=\"14.00\" fill=\"#000000\">entropy = 0.0</text>\n<text text-anchor=\"middle\" x=\"652.5\" y=\"-387.3\" font-family=\"Helvetica,sans-Serif\" font-size=\"14.00\" fill=\"#000000\">samples = 3</text>\n<text text-anchor=\"middle\" x=\"652.5\" y=\"-372.3\" font-family=\"Helvetica,sans-Serif\" font-size=\"14.00\" fill=\"#000000\">value = [3, 0]</text>\n<text text-anchor=\"middle\" x=\"652.5\" y=\"-357.3\" font-family=\"Helvetica,sans-Serif\" font-size=\"14.00\" fill=\"#000000\">class = 0</text>\n</g>\n<!-- 36&#45;&gt;37 -->\n<g id=\"edge37\" class=\"edge\">\n<title>36&#45;&gt;37</title>\n<path fill=\"none\" stroke=\"#000000\" d=\"M670.0567,-460.8796C667.6117,-450.1034 664.971,-438.4647 662.4986,-427.5677\"/>\n<polygon fill=\"#000000\" stroke=\"#000000\" points=\"665.9117,-426.7926 660.2857,-417.8149 659.0852,-428.3415 665.9117,-426.7926\"/>\n</g>\n<!-- 38 -->\n<g id=\"node39\" class=\"node\">\n<title>38</title>\n<path fill=\"#399de5\" stroke=\"#000000\" d=\"M810,-417.5C810,-417.5 733,-417.5 733,-417.5 727,-417.5 721,-411.5 721,-405.5 721,-405.5 721,-361.5 721,-361.5 721,-355.5 727,-349.5 733,-349.5 733,-349.5 810,-349.5 810,-349.5 816,-349.5 822,-355.5 822,-361.5 822,-361.5 822,-405.5 822,-405.5 822,-411.5 816,-417.5 810,-417.5\"/>\n<text text-anchor=\"middle\" x=\"771.5\" y=\"-402.3\" font-family=\"Helvetica,sans-Serif\" font-size=\"14.00\" fill=\"#000000\">entropy = 0.0</text>\n<text text-anchor=\"middle\" x=\"771.5\" y=\"-387.3\" font-family=\"Helvetica,sans-Serif\" font-size=\"14.00\" fill=\"#000000\">samples = 3</text>\n<text text-anchor=\"middle\" x=\"771.5\" y=\"-372.3\" font-family=\"Helvetica,sans-Serif\" font-size=\"14.00\" fill=\"#000000\">value = [0, 3]</text>\n<text text-anchor=\"middle\" x=\"771.5\" y=\"-357.3\" font-family=\"Helvetica,sans-Serif\" font-size=\"14.00\" fill=\"#000000\">class = 1</text>\n</g>\n<!-- 36&#45;&gt;38 -->\n<g id=\"edge38\" class=\"edge\">\n<title>36&#45;&gt;38</title>\n<path fill=\"none\" stroke=\"#000000\" d=\"M711.6771,-460.8796C720.4333,-449.5536 729.9262,-437.2748 738.7156,-425.9058\"/>\n<polygon fill=\"#000000\" stroke=\"#000000\" points=\"741.6234,-427.8671 744.9708,-417.8149 736.0854,-423.5856 741.6234,-427.8671\"/>\n</g>\n<!-- 40 -->\n<g id=\"node41\" class=\"node\">\n<title>40</title>\n<path fill=\"#e58139\" stroke=\"#000000\" d=\"M845,-536.5C845,-536.5 768,-536.5 768,-536.5 762,-536.5 756,-530.5 756,-524.5 756,-524.5 756,-480.5 756,-480.5 756,-474.5 762,-468.5 768,-468.5 768,-468.5 845,-468.5 845,-468.5 851,-468.5 857,-474.5 857,-480.5 857,-480.5 857,-524.5 857,-524.5 857,-530.5 851,-536.5 845,-536.5\"/>\n<text text-anchor=\"middle\" x=\"806.5\" y=\"-521.3\" font-family=\"Helvetica,sans-Serif\" font-size=\"14.00\" fill=\"#000000\">entropy = 0.0</text>\n<text text-anchor=\"middle\" x=\"806.5\" y=\"-506.3\" font-family=\"Helvetica,sans-Serif\" font-size=\"14.00\" fill=\"#000000\">samples = 3</text>\n<text text-anchor=\"middle\" x=\"806.5\" y=\"-491.3\" font-family=\"Helvetica,sans-Serif\" font-size=\"14.00\" fill=\"#000000\">value = [3, 0]</text>\n<text text-anchor=\"middle\" x=\"806.5\" y=\"-476.3\" font-family=\"Helvetica,sans-Serif\" font-size=\"14.00\" fill=\"#000000\">class = 0</text>\n</g>\n<!-- 39&#45;&gt;40 -->\n<g id=\"edge40\" class=\"edge\">\n<title>39&#45;&gt;40</title>\n<path fill=\"none\" stroke=\"#000000\" d=\"M809.101,-579.8796C808.7425,-569.2134 808.3555,-557.7021 807.9925,-546.9015\"/>\n<polygon fill=\"#000000\" stroke=\"#000000\" points=\"811.4875,-546.6917 807.6534,-536.8149 804.4915,-546.9269 811.4875,-546.6917\"/>\n</g>\n<!-- 41 -->\n<g id=\"node42\" class=\"node\">\n<title>41</title>\n<path fill=\"#9ccef2\" stroke=\"#000000\" d=\"M981.5,-544C981.5,-544 887.5,-544 887.5,-544 881.5,-544 875.5,-538 875.5,-532 875.5,-532 875.5,-473 875.5,-473 875.5,-467 881.5,-461 887.5,-461 887.5,-461 981.5,-461 981.5,-461 987.5,-461 993.5,-467 993.5,-473 993.5,-473 993.5,-532 993.5,-532 993.5,-538 987.5,-544 981.5,-544\"/>\n<text text-anchor=\"middle\" x=\"934.5\" y=\"-528.8\" font-family=\"Helvetica,sans-Serif\" font-size=\"14.00\" fill=\"#000000\">Age &lt;= 37.5</text>\n<text text-anchor=\"middle\" x=\"934.5\" y=\"-513.8\" font-family=\"Helvetica,sans-Serif\" font-size=\"14.00\" fill=\"#000000\">entropy = 0.918</text>\n<text text-anchor=\"middle\" x=\"934.5\" y=\"-498.8\" font-family=\"Helvetica,sans-Serif\" font-size=\"14.00\" fill=\"#000000\">samples = 3</text>\n<text text-anchor=\"middle\" x=\"934.5\" y=\"-483.8\" font-family=\"Helvetica,sans-Serif\" font-size=\"14.00\" fill=\"#000000\">value = [1, 2]</text>\n<text text-anchor=\"middle\" x=\"934.5\" y=\"-468.8\" font-family=\"Helvetica,sans-Serif\" font-size=\"14.00\" fill=\"#000000\">class = 1</text>\n</g>\n<!-- 39&#45;&gt;41 -->\n<g id=\"edge41\" class=\"edge\">\n<title>39&#45;&gt;41</title>\n<path fill=\"none\" stroke=\"#000000\" d=\"M853.8692,-579.8796C863.4416,-570.6931 873.6672,-560.8798 883.5103,-551.4336\"/>\n<polygon fill=\"#000000\" stroke=\"#000000\" points=\"886.1541,-553.7475 890.9457,-544.2981 881.3072,-548.6969 886.1541,-553.7475\"/>\n</g>\n<!-- 42 -->\n<g id=\"node43\" class=\"node\">\n<title>42</title>\n<path fill=\"#ffffff\" stroke=\"#000000\" d=\"M933,-417.5C933,-417.5 856,-417.5 856,-417.5 850,-417.5 844,-411.5 844,-405.5 844,-405.5 844,-361.5 844,-361.5 844,-355.5 850,-349.5 856,-349.5 856,-349.5 933,-349.5 933,-349.5 939,-349.5 945,-355.5 945,-361.5 945,-361.5 945,-405.5 945,-405.5 945,-411.5 939,-417.5 933,-417.5\"/>\n<text text-anchor=\"middle\" x=\"894.5\" y=\"-402.3\" font-family=\"Helvetica,sans-Serif\" font-size=\"14.00\" fill=\"#000000\">entropy = 1.0</text>\n<text text-anchor=\"middle\" x=\"894.5\" y=\"-387.3\" font-family=\"Helvetica,sans-Serif\" font-size=\"14.00\" fill=\"#000000\">samples = 2</text>\n<text text-anchor=\"middle\" x=\"894.5\" y=\"-372.3\" font-family=\"Helvetica,sans-Serif\" font-size=\"14.00\" fill=\"#000000\">value = [1, 1]</text>\n<text text-anchor=\"middle\" x=\"894.5\" y=\"-357.3\" font-family=\"Helvetica,sans-Serif\" font-size=\"14.00\" fill=\"#000000\">class = 0</text>\n</g>\n<!-- 41&#45;&gt;42 -->\n<g id=\"edge42\" class=\"edge\">\n<title>41&#45;&gt;42</title>\n<path fill=\"none\" stroke=\"#000000\" d=\"M920.5099,-460.8796C916.8877,-450.1034 912.9755,-438.4647 909.3127,-427.5677\"/>\n<polygon fill=\"#000000\" stroke=\"#000000\" points=\"912.5383,-426.1786 906.0344,-417.8149 905.9031,-428.409 912.5383,-426.1786\"/>\n</g>\n<!-- 43 -->\n<g id=\"node44\" class=\"node\">\n<title>43</title>\n<path fill=\"#399de5\" stroke=\"#000000\" d=\"M1052,-417.5C1052,-417.5 975,-417.5 975,-417.5 969,-417.5 963,-411.5 963,-405.5 963,-405.5 963,-361.5 963,-361.5 963,-355.5 969,-349.5 975,-349.5 975,-349.5 1052,-349.5 1052,-349.5 1058,-349.5 1064,-355.5 1064,-361.5 1064,-361.5 1064,-405.5 1064,-405.5 1064,-411.5 1058,-417.5 1052,-417.5\"/>\n<text text-anchor=\"middle\" x=\"1013.5\" y=\"-402.3\" font-family=\"Helvetica,sans-Serif\" font-size=\"14.00\" fill=\"#000000\">entropy = 0.0</text>\n<text text-anchor=\"middle\" x=\"1013.5\" y=\"-387.3\" font-family=\"Helvetica,sans-Serif\" font-size=\"14.00\" fill=\"#000000\">samples = 1</text>\n<text text-anchor=\"middle\" x=\"1013.5\" y=\"-372.3\" font-family=\"Helvetica,sans-Serif\" font-size=\"14.00\" fill=\"#000000\">value = [0, 1]</text>\n<text text-anchor=\"middle\" x=\"1013.5\" y=\"-357.3\" font-family=\"Helvetica,sans-Serif\" font-size=\"14.00\" fill=\"#000000\">class = 1</text>\n</g>\n<!-- 41&#45;&gt;43 -->\n<g id=\"edge43\" class=\"edge\">\n<title>41&#45;&gt;43</title>\n<path fill=\"none\" stroke=\"#000000\" d=\"M962.1304,-460.8796C969.5763,-449.6636 977.6425,-437.5131 985.1282,-426.2372\"/>\n<polygon fill=\"#000000\" stroke=\"#000000\" points=\"988.1046,-428.082 990.7195,-417.8149 982.2727,-424.2104 988.1046,-428.082\"/>\n</g>\n<!-- 46 -->\n<g id=\"node47\" class=\"node\">\n<title>46</title>\n<path fill=\"#e58139\" stroke=\"#000000\" d=\"M1083,-774.5C1083,-774.5 1006,-774.5 1006,-774.5 1000,-774.5 994,-768.5 994,-762.5 994,-762.5 994,-718.5 994,-718.5 994,-712.5 1000,-706.5 1006,-706.5 1006,-706.5 1083,-706.5 1083,-706.5 1089,-706.5 1095,-712.5 1095,-718.5 1095,-718.5 1095,-762.5 1095,-762.5 1095,-768.5 1089,-774.5 1083,-774.5\"/>\n<text text-anchor=\"middle\" x=\"1044.5\" y=\"-759.3\" font-family=\"Helvetica,sans-Serif\" font-size=\"14.00\" fill=\"#000000\">entropy = 0.0</text>\n<text text-anchor=\"middle\" x=\"1044.5\" y=\"-744.3\" font-family=\"Helvetica,sans-Serif\" font-size=\"14.00\" fill=\"#000000\">samples = 8</text>\n<text text-anchor=\"middle\" x=\"1044.5\" y=\"-729.3\" font-family=\"Helvetica,sans-Serif\" font-size=\"14.00\" fill=\"#000000\">value = [8, 0]</text>\n<text text-anchor=\"middle\" x=\"1044.5\" y=\"-714.3\" font-family=\"Helvetica,sans-Serif\" font-size=\"14.00\" fill=\"#000000\">class = 0</text>\n</g>\n<!-- 45&#45;&gt;46 -->\n<g id=\"edge46\" class=\"edge\">\n<title>45&#45;&gt;46</title>\n<path fill=\"none\" stroke=\"#000000\" d=\"M1047.101,-817.8796C1046.7425,-807.2134 1046.3555,-795.7021 1045.9925,-784.9015\"/>\n<polygon fill=\"#000000\" stroke=\"#000000\" points=\"1049.4875,-784.6917 1045.6534,-774.8149 1042.4915,-784.9269 1049.4875,-784.6917\"/>\n</g>\n<!-- 47 -->\n<g id=\"node48\" class=\"node\">\n<title>47</title>\n<path fill=\"#b5daf5\" stroke=\"#000000\" d=\"M1219.5,-782C1219.5,-782 1125.5,-782 1125.5,-782 1119.5,-782 1113.5,-776 1113.5,-770 1113.5,-770 1113.5,-711 1113.5,-711 1113.5,-705 1119.5,-699 1125.5,-699 1125.5,-699 1219.5,-699 1219.5,-699 1225.5,-699 1231.5,-705 1231.5,-711 1231.5,-711 1231.5,-770 1231.5,-770 1231.5,-776 1225.5,-782 1219.5,-782\"/>\n<text text-anchor=\"middle\" x=\"1172.5\" y=\"-766.8\" font-family=\"Helvetica,sans-Serif\" font-size=\"14.00\" fill=\"#000000\">Fare &lt;= 97.765</text>\n<text text-anchor=\"middle\" x=\"1172.5\" y=\"-751.8\" font-family=\"Helvetica,sans-Serif\" font-size=\"14.00\" fill=\"#000000\">entropy = 0.961</text>\n<text text-anchor=\"middle\" x=\"1172.5\" y=\"-736.8\" font-family=\"Helvetica,sans-Serif\" font-size=\"14.00\" fill=\"#000000\">samples = 13</text>\n<text text-anchor=\"middle\" x=\"1172.5\" y=\"-721.8\" font-family=\"Helvetica,sans-Serif\" font-size=\"14.00\" fill=\"#000000\">value = [5, 8]</text>\n<text text-anchor=\"middle\" x=\"1172.5\" y=\"-706.8\" font-family=\"Helvetica,sans-Serif\" font-size=\"14.00\" fill=\"#000000\">class = 1</text>\n</g>\n<!-- 45&#45;&gt;47 -->\n<g id=\"edge47\" class=\"edge\">\n<title>45&#45;&gt;47</title>\n<path fill=\"none\" stroke=\"#000000\" d=\"M1091.8692,-817.8796C1101.4416,-808.6931 1111.6672,-798.8798 1121.5103,-789.4336\"/>\n<polygon fill=\"#000000\" stroke=\"#000000\" points=\"1124.1541,-791.7475 1128.9457,-782.2981 1119.3072,-786.6969 1124.1541,-791.7475\"/>\n</g>\n<!-- 48 -->\n<g id=\"node49\" class=\"node\">\n<title>48</title>\n<path fill=\"#83c2ef\" stroke=\"#000000\" d=\"M1183.5,-663C1183.5,-663 1089.5,-663 1089.5,-663 1083.5,-663 1077.5,-657 1077.5,-651 1077.5,-651 1077.5,-592 1077.5,-592 1077.5,-586 1083.5,-580 1089.5,-580 1089.5,-580 1183.5,-580 1183.5,-580 1189.5,-580 1195.5,-586 1195.5,-592 1195.5,-592 1195.5,-651 1195.5,-651 1195.5,-657 1189.5,-663 1183.5,-663\"/>\n<text text-anchor=\"middle\" x=\"1136.5\" y=\"-647.8\" font-family=\"Helvetica,sans-Serif\" font-size=\"14.00\" fill=\"#000000\">Age &lt;= 49.5</text>\n<text text-anchor=\"middle\" x=\"1136.5\" y=\"-632.8\" font-family=\"Helvetica,sans-Serif\" font-size=\"14.00\" fill=\"#000000\">entropy = 0.845</text>\n<text text-anchor=\"middle\" x=\"1136.5\" y=\"-617.8\" font-family=\"Helvetica,sans-Serif\" font-size=\"14.00\" fill=\"#000000\">samples = 11</text>\n<text text-anchor=\"middle\" x=\"1136.5\" y=\"-602.8\" font-family=\"Helvetica,sans-Serif\" font-size=\"14.00\" fill=\"#000000\">value = [3, 8]</text>\n<text text-anchor=\"middle\" x=\"1136.5\" y=\"-587.8\" font-family=\"Helvetica,sans-Serif\" font-size=\"14.00\" fill=\"#000000\">class = 1</text>\n</g>\n<!-- 47&#45;&gt;48 -->\n<g id=\"edge48\" class=\"edge\">\n<title>47&#45;&gt;48</title>\n<path fill=\"none\" stroke=\"#000000\" d=\"M1159.9089,-698.8796C1157.3751,-690.5037 1154.6835,-681.6067 1152.0623,-672.942\"/>\n<polygon fill=\"#000000\" stroke=\"#000000\" points=\"1155.3905,-671.8562 1149.1448,-663.2981 1148.6904,-673.8832 1155.3905,-671.8562\"/>\n</g>\n<!-- 59 -->\n<g id=\"node60\" class=\"node\">\n<title>59</title>\n<path fill=\"#e58139\" stroke=\"#000000\" d=\"M1303,-655.5C1303,-655.5 1226,-655.5 1226,-655.5 1220,-655.5 1214,-649.5 1214,-643.5 1214,-643.5 1214,-599.5 1214,-599.5 1214,-593.5 1220,-587.5 1226,-587.5 1226,-587.5 1303,-587.5 1303,-587.5 1309,-587.5 1315,-593.5 1315,-599.5 1315,-599.5 1315,-643.5 1315,-643.5 1315,-649.5 1309,-655.5 1303,-655.5\"/>\n<text text-anchor=\"middle\" x=\"1264.5\" y=\"-640.3\" font-family=\"Helvetica,sans-Serif\" font-size=\"14.00\" fill=\"#000000\">entropy = 0.0</text>\n<text text-anchor=\"middle\" x=\"1264.5\" y=\"-625.3\" font-family=\"Helvetica,sans-Serif\" font-size=\"14.00\" fill=\"#000000\">samples = 2</text>\n<text text-anchor=\"middle\" x=\"1264.5\" y=\"-610.3\" font-family=\"Helvetica,sans-Serif\" font-size=\"14.00\" fill=\"#000000\">value = [2, 0]</text>\n<text text-anchor=\"middle\" x=\"1264.5\" y=\"-595.3\" font-family=\"Helvetica,sans-Serif\" font-size=\"14.00\" fill=\"#000000\">class = 0</text>\n</g>\n<!-- 47&#45;&gt;59 -->\n<g id=\"edge59\" class=\"edge\">\n<title>47&#45;&gt;59</title>\n<path fill=\"none\" stroke=\"#000000\" d=\"M1204.6771,-698.8796C1213.4333,-687.5536 1222.9262,-675.2748 1231.7156,-663.9058\"/>\n<polygon fill=\"#000000\" stroke=\"#000000\" points=\"1234.6234,-665.8671 1237.9708,-655.8149 1229.0854,-661.5856 1234.6234,-665.8671\"/>\n</g>\n<!-- 49 -->\n<g id=\"node50\" class=\"node\">\n<title>49</title>\n<path fill=\"#399de5\" stroke=\"#000000\" d=\"M1155,-536.5C1155,-536.5 1078,-536.5 1078,-536.5 1072,-536.5 1066,-530.5 1066,-524.5 1066,-524.5 1066,-480.5 1066,-480.5 1066,-474.5 1072,-468.5 1078,-468.5 1078,-468.5 1155,-468.5 1155,-468.5 1161,-468.5 1167,-474.5 1167,-480.5 1167,-480.5 1167,-524.5 1167,-524.5 1167,-530.5 1161,-536.5 1155,-536.5\"/>\n<text text-anchor=\"middle\" x=\"1116.5\" y=\"-521.3\" font-family=\"Helvetica,sans-Serif\" font-size=\"14.00\" fill=\"#000000\">entropy = 0.0</text>\n<text text-anchor=\"middle\" x=\"1116.5\" y=\"-506.3\" font-family=\"Helvetica,sans-Serif\" font-size=\"14.00\" fill=\"#000000\">samples = 5</text>\n<text text-anchor=\"middle\" x=\"1116.5\" y=\"-491.3\" font-family=\"Helvetica,sans-Serif\" font-size=\"14.00\" fill=\"#000000\">value = [0, 5]</text>\n<text text-anchor=\"middle\" x=\"1116.5\" y=\"-476.3\" font-family=\"Helvetica,sans-Serif\" font-size=\"14.00\" fill=\"#000000\">class = 1</text>\n</g>\n<!-- 48&#45;&gt;49 -->\n<g id=\"edge49\" class=\"edge\">\n<title>48&#45;&gt;49</title>\n<path fill=\"none\" stroke=\"#000000\" d=\"M1129.505,-579.8796C1127.7123,-569.2134 1125.7777,-557.7021 1123.9624,-546.9015\"/>\n<polygon fill=\"#000000\" stroke=\"#000000\" points=\"1127.3763,-546.0965 1122.2672,-536.8149 1120.4731,-547.2568 1127.3763,-546.0965\"/>\n</g>\n<!-- 50 -->\n<g id=\"node51\" class=\"node\">\n<title>50</title>\n<path fill=\"#ffffff\" stroke=\"#000000\" d=\"M1289.5,-544C1289.5,-544 1197.5,-544 1197.5,-544 1191.5,-544 1185.5,-538 1185.5,-532 1185.5,-532 1185.5,-473 1185.5,-473 1185.5,-467 1191.5,-461 1197.5,-461 1197.5,-461 1289.5,-461 1289.5,-461 1295.5,-461 1301.5,-467 1301.5,-473 1301.5,-473 1301.5,-532 1301.5,-532 1301.5,-538 1295.5,-544 1289.5,-544\"/>\n<text text-anchor=\"middle\" x=\"1243.5\" y=\"-528.8\" font-family=\"Helvetica,sans-Serif\" font-size=\"14.00\" fill=\"#000000\">Fare &lt;= 28.525</text>\n<text text-anchor=\"middle\" x=\"1243.5\" y=\"-513.8\" font-family=\"Helvetica,sans-Serif\" font-size=\"14.00\" fill=\"#000000\">entropy = 1.0</text>\n<text text-anchor=\"middle\" x=\"1243.5\" y=\"-498.8\" font-family=\"Helvetica,sans-Serif\" font-size=\"14.00\" fill=\"#000000\">samples = 6</text>\n<text text-anchor=\"middle\" x=\"1243.5\" y=\"-483.8\" font-family=\"Helvetica,sans-Serif\" font-size=\"14.00\" fill=\"#000000\">value = [3, 3]</text>\n<text text-anchor=\"middle\" x=\"1243.5\" y=\"-468.8\" font-family=\"Helvetica,sans-Serif\" font-size=\"14.00\" fill=\"#000000\">class = 0</text>\n</g>\n<!-- 48&#45;&gt;50 -->\n<g id=\"edge50\" class=\"edge\">\n<title>48&#45;&gt;50</title>\n<path fill=\"none\" stroke=\"#000000\" d=\"M1173.9234,-579.8796C1182.0215,-570.8733 1190.6614,-561.2644 1199.0009,-551.9897\"/>\n<polygon fill=\"#000000\" stroke=\"#000000\" points=\"1201.8333,-554.0743 1205.9169,-544.2981 1196.628,-549.394 1201.8333,-554.0743\"/>\n</g>\n<!-- 51 -->\n<g id=\"node52\" class=\"node\">\n<title>51</title>\n<path fill=\"#399de5\" stroke=\"#000000\" d=\"M1182,-417.5C1182,-417.5 1105,-417.5 1105,-417.5 1099,-417.5 1093,-411.5 1093,-405.5 1093,-405.5 1093,-361.5 1093,-361.5 1093,-355.5 1099,-349.5 1105,-349.5 1105,-349.5 1182,-349.5 1182,-349.5 1188,-349.5 1194,-355.5 1194,-361.5 1194,-361.5 1194,-405.5 1194,-405.5 1194,-411.5 1188,-417.5 1182,-417.5\"/>\n<text text-anchor=\"middle\" x=\"1143.5\" y=\"-402.3\" font-family=\"Helvetica,sans-Serif\" font-size=\"14.00\" fill=\"#000000\">entropy = 0.0</text>\n<text text-anchor=\"middle\" x=\"1143.5\" y=\"-387.3\" font-family=\"Helvetica,sans-Serif\" font-size=\"14.00\" fill=\"#000000\">samples = 1</text>\n<text text-anchor=\"middle\" x=\"1143.5\" y=\"-372.3\" font-family=\"Helvetica,sans-Serif\" font-size=\"14.00\" fill=\"#000000\">value = [0, 1]</text>\n<text text-anchor=\"middle\" x=\"1143.5\" y=\"-357.3\" font-family=\"Helvetica,sans-Serif\" font-size=\"14.00\" fill=\"#000000\">class = 1</text>\n</g>\n<!-- 50&#45;&gt;51 -->\n<g id=\"edge51\" class=\"edge\">\n<title>50&#45;&gt;51</title>\n<path fill=\"none\" stroke=\"#000000\" d=\"M1208.5249,-460.8796C1198.9148,-449.4436 1188.4885,-437.0363 1178.8571,-425.575\"/>\n<polygon fill=\"#000000\" stroke=\"#000000\" points=\"1181.4491,-423.219 1172.3361,-417.8149 1176.09,-427.7225 1181.4491,-423.219\"/>\n</g>\n<!-- 52 -->\n<g id=\"node53\" class=\"node\">\n<title>52</title>\n<path fill=\"#f6d5bd\" stroke=\"#000000\" d=\"M1318.5,-425C1318.5,-425 1224.5,-425 1224.5,-425 1218.5,-425 1212.5,-419 1212.5,-413 1212.5,-413 1212.5,-354 1212.5,-354 1212.5,-348 1218.5,-342 1224.5,-342 1224.5,-342 1318.5,-342 1318.5,-342 1324.5,-342 1330.5,-348 1330.5,-354 1330.5,-354 1330.5,-413 1330.5,-413 1330.5,-419 1324.5,-425 1318.5,-425\"/>\n<text text-anchor=\"middle\" x=\"1271.5\" y=\"-409.8\" font-family=\"Helvetica,sans-Serif\" font-size=\"14.00\" fill=\"#000000\">SibSp &lt;= 0.5</text>\n<text text-anchor=\"middle\" x=\"1271.5\" y=\"-394.8\" font-family=\"Helvetica,sans-Serif\" font-size=\"14.00\" fill=\"#000000\">entropy = 0.971</text>\n<text text-anchor=\"middle\" x=\"1271.5\" y=\"-379.8\" font-family=\"Helvetica,sans-Serif\" font-size=\"14.00\" fill=\"#000000\">samples = 5</text>\n<text text-anchor=\"middle\" x=\"1271.5\" y=\"-364.8\" font-family=\"Helvetica,sans-Serif\" font-size=\"14.00\" fill=\"#000000\">value = [3, 2]</text>\n<text text-anchor=\"middle\" x=\"1271.5\" y=\"-349.8\" font-family=\"Helvetica,sans-Serif\" font-size=\"14.00\" fill=\"#000000\">class = 0</text>\n</g>\n<!-- 50&#45;&gt;52 -->\n<g id=\"edge52\" class=\"edge\">\n<title>50&#45;&gt;52</title>\n<path fill=\"none\" stroke=\"#000000\" d=\"M1253.293,-460.8796C1255.2426,-452.5938 1257.3122,-443.798 1259.3302,-435.2216\"/>\n<polygon fill=\"#000000\" stroke=\"#000000\" points=\"1262.7817,-435.8339 1261.6652,-425.2981 1255.9677,-434.2306 1262.7817,-435.8339\"/>\n</g>\n<!-- 53 -->\n<g id=\"node54\" class=\"node\">\n<title>53</title>\n<path fill=\"#ffffff\" stroke=\"#000000\" d=\"M1250,-306C1250,-306 1173,-306 1173,-306 1167,-306 1161,-300 1161,-294 1161,-294 1161,-235 1161,-235 1161,-229 1167,-223 1173,-223 1173,-223 1250,-223 1250,-223 1256,-223 1262,-229 1262,-235 1262,-235 1262,-294 1262,-294 1262,-300 1256,-306 1250,-306\"/>\n<text text-anchor=\"middle\" x=\"1211.5\" y=\"-290.8\" font-family=\"Helvetica,sans-Serif\" font-size=\"14.00\" fill=\"#000000\">Age &lt;= 53.5</text>\n<text text-anchor=\"middle\" x=\"1211.5\" y=\"-275.8\" font-family=\"Helvetica,sans-Serif\" font-size=\"14.00\" fill=\"#000000\">entropy = 1.0</text>\n<text text-anchor=\"middle\" x=\"1211.5\" y=\"-260.8\" font-family=\"Helvetica,sans-Serif\" font-size=\"14.00\" fill=\"#000000\">samples = 4</text>\n<text text-anchor=\"middle\" x=\"1211.5\" y=\"-245.8\" font-family=\"Helvetica,sans-Serif\" font-size=\"14.00\" fill=\"#000000\">value = [2, 2]</text>\n<text text-anchor=\"middle\" x=\"1211.5\" y=\"-230.8\" font-family=\"Helvetica,sans-Serif\" font-size=\"14.00\" fill=\"#000000\">class = 0</text>\n</g>\n<!-- 52&#45;&gt;53 -->\n<g id=\"edge53\" class=\"edge\">\n<title>52&#45;&gt;53</title>\n<path fill=\"none\" stroke=\"#000000\" d=\"M1250.5149,-341.8796C1246.201,-333.3236 1241.6128,-324.2238 1237.1554,-315.3833\"/>\n<polygon fill=\"#000000\" stroke=\"#000000\" points=\"1240.2021,-313.6515 1232.5747,-306.2981 1233.9516,-316.8031 1240.2021,-313.6515\"/>\n</g>\n<!-- 58 -->\n<g id=\"node59\" class=\"node\">\n<title>58</title>\n<path fill=\"#e58139\" stroke=\"#000000\" d=\"M1369,-298.5C1369,-298.5 1292,-298.5 1292,-298.5 1286,-298.5 1280,-292.5 1280,-286.5 1280,-286.5 1280,-242.5 1280,-242.5 1280,-236.5 1286,-230.5 1292,-230.5 1292,-230.5 1369,-230.5 1369,-230.5 1375,-230.5 1381,-236.5 1381,-242.5 1381,-242.5 1381,-286.5 1381,-286.5 1381,-292.5 1375,-298.5 1369,-298.5\"/>\n<text text-anchor=\"middle\" x=\"1330.5\" y=\"-283.3\" font-family=\"Helvetica,sans-Serif\" font-size=\"14.00\" fill=\"#000000\">entropy = 0.0</text>\n<text text-anchor=\"middle\" x=\"1330.5\" y=\"-268.3\" font-family=\"Helvetica,sans-Serif\" font-size=\"14.00\" fill=\"#000000\">samples = 1</text>\n<text text-anchor=\"middle\" x=\"1330.5\" y=\"-253.3\" font-family=\"Helvetica,sans-Serif\" font-size=\"14.00\" fill=\"#000000\">value = [1, 0]</text>\n<text text-anchor=\"middle\" x=\"1330.5\" y=\"-238.3\" font-family=\"Helvetica,sans-Serif\" font-size=\"14.00\" fill=\"#000000\">class = 0</text>\n</g>\n<!-- 52&#45;&gt;58 -->\n<g id=\"edge58\" class=\"edge\">\n<title>52&#45;&gt;58</title>\n<path fill=\"none\" stroke=\"#000000\" d=\"M1292.1353,-341.8796C1297.5872,-330.8835 1303.4843,-318.9893 1308.9816,-307.9015\"/>\n<polygon fill=\"#000000\" stroke=\"#000000\" points=\"1312.1804,-309.3289 1313.4867,-298.8149 1305.9089,-306.2195 1312.1804,-309.3289\"/>\n</g>\n<!-- 54 -->\n<g id=\"node55\" class=\"node\">\n<title>54</title>\n<path fill=\"#399de5\" stroke=\"#000000\" d=\"M1186,-179.5C1186,-179.5 1109,-179.5 1109,-179.5 1103,-179.5 1097,-173.5 1097,-167.5 1097,-167.5 1097,-123.5 1097,-123.5 1097,-117.5 1103,-111.5 1109,-111.5 1109,-111.5 1186,-111.5 1186,-111.5 1192,-111.5 1198,-117.5 1198,-123.5 1198,-123.5 1198,-167.5 1198,-167.5 1198,-173.5 1192,-179.5 1186,-179.5\"/>\n<text text-anchor=\"middle\" x=\"1147.5\" y=\"-164.3\" font-family=\"Helvetica,sans-Serif\" font-size=\"14.00\" fill=\"#000000\">entropy = 0.0</text>\n<text text-anchor=\"middle\" x=\"1147.5\" y=\"-149.3\" font-family=\"Helvetica,sans-Serif\" font-size=\"14.00\" fill=\"#000000\">samples = 1</text>\n<text text-anchor=\"middle\" x=\"1147.5\" y=\"-134.3\" font-family=\"Helvetica,sans-Serif\" font-size=\"14.00\" fill=\"#000000\">value = [0, 1]</text>\n<text text-anchor=\"middle\" x=\"1147.5\" y=\"-119.3\" font-family=\"Helvetica,sans-Serif\" font-size=\"14.00\" fill=\"#000000\">class = 1</text>\n</g>\n<!-- 53&#45;&gt;54 -->\n<g id=\"edge54\" class=\"edge\">\n<title>53&#45;&gt;54</title>\n<path fill=\"none\" stroke=\"#000000\" d=\"M1189.1159,-222.8796C1183.202,-211.8835 1176.8051,-199.9893 1170.842,-188.9015\"/>\n<polygon fill=\"#000000\" stroke=\"#000000\" points=\"1173.7742,-186.9642 1165.9551,-179.8149 1167.6092,-190.2799 1173.7742,-186.9642\"/>\n</g>\n<!-- 55 -->\n<g id=\"node56\" class=\"node\">\n<title>55</title>\n<path fill=\"#f2c09c\" stroke=\"#000000\" d=\"M1322.5,-187C1322.5,-187 1228.5,-187 1228.5,-187 1222.5,-187 1216.5,-181 1216.5,-175 1216.5,-175 1216.5,-116 1216.5,-116 1216.5,-110 1222.5,-104 1228.5,-104 1228.5,-104 1322.5,-104 1322.5,-104 1328.5,-104 1334.5,-110 1334.5,-116 1334.5,-116 1334.5,-175 1334.5,-175 1334.5,-181 1328.5,-187 1322.5,-187\"/>\n<text text-anchor=\"middle\" x=\"1275.5\" y=\"-171.8\" font-family=\"Helvetica,sans-Serif\" font-size=\"14.00\" fill=\"#000000\">Fare &lt;= 33.098</text>\n<text text-anchor=\"middle\" x=\"1275.5\" y=\"-156.8\" font-family=\"Helvetica,sans-Serif\" font-size=\"14.00\" fill=\"#000000\">entropy = 0.918</text>\n<text text-anchor=\"middle\" x=\"1275.5\" y=\"-141.8\" font-family=\"Helvetica,sans-Serif\" font-size=\"14.00\" fill=\"#000000\">samples = 3</text>\n<text text-anchor=\"middle\" x=\"1275.5\" y=\"-126.8\" font-family=\"Helvetica,sans-Serif\" font-size=\"14.00\" fill=\"#000000\">value = [2, 1]</text>\n<text text-anchor=\"middle\" x=\"1275.5\" y=\"-111.8\" font-family=\"Helvetica,sans-Serif\" font-size=\"14.00\" fill=\"#000000\">class = 0</text>\n</g>\n<!-- 53&#45;&gt;55 -->\n<g id=\"edge55\" class=\"edge\">\n<title>53&#45;&gt;55</title>\n<path fill=\"none\" stroke=\"#000000\" d=\"M1233.8841,-222.8796C1238.4856,-214.3236 1243.3796,-205.2238 1248.1342,-196.3833\"/>\n<polygon fill=\"#000000\" stroke=\"#000000\" points=\"1251.3662,-197.763 1253.0204,-187.2981 1245.2012,-194.4473 1251.3662,-197.763\"/>\n</g>\n<!-- 56 -->\n<g id=\"node57\" class=\"node\">\n<title>56</title>\n<path fill=\"#e58139\" stroke=\"#000000\" d=\"M1254,-68C1254,-68 1177,-68 1177,-68 1171,-68 1165,-62 1165,-56 1165,-56 1165,-12 1165,-12 1165,-6 1171,0 1177,0 1177,0 1254,0 1254,0 1260,0 1266,-6 1266,-12 1266,-12 1266,-56 1266,-56 1266,-62 1260,-68 1254,-68\"/>\n<text text-anchor=\"middle\" x=\"1215.5\" y=\"-52.8\" font-family=\"Helvetica,sans-Serif\" font-size=\"14.00\" fill=\"#000000\">entropy = 0.0</text>\n<text text-anchor=\"middle\" x=\"1215.5\" y=\"-37.8\" font-family=\"Helvetica,sans-Serif\" font-size=\"14.00\" fill=\"#000000\">samples = 2</text>\n<text text-anchor=\"middle\" x=\"1215.5\" y=\"-22.8\" font-family=\"Helvetica,sans-Serif\" font-size=\"14.00\" fill=\"#000000\">value = [2, 0]</text>\n<text text-anchor=\"middle\" x=\"1215.5\" y=\"-7.8\" font-family=\"Helvetica,sans-Serif\" font-size=\"14.00\" fill=\"#000000\">class = 0</text>\n</g>\n<!-- 55&#45;&gt;56 -->\n<g id=\"edge56\" class=\"edge\">\n<title>55&#45;&gt;56</title>\n<path fill=\"none\" stroke=\"#000000\" d=\"M1253.1582,-103.9815C1248.4598,-95.2504 1243.4929,-86.0202 1238.7617,-77.2281\"/>\n<polygon fill=\"#000000\" stroke=\"#000000\" points=\"1241.7586,-75.4111 1233.9379,-68.2637 1235.5944,-78.7282 1241.7586,-75.4111\"/>\n</g>\n<!-- 57 -->\n<g id=\"node58\" class=\"node\">\n<title>57</title>\n<path fill=\"#399de5\" stroke=\"#000000\" d=\"M1373,-68C1373,-68 1296,-68 1296,-68 1290,-68 1284,-62 1284,-56 1284,-56 1284,-12 1284,-12 1284,-6 1290,0 1296,0 1296,0 1373,0 1373,0 1379,0 1385,-6 1385,-12 1385,-12 1385,-56 1385,-56 1385,-62 1379,-68 1373,-68\"/>\n<text text-anchor=\"middle\" x=\"1334.5\" y=\"-52.8\" font-family=\"Helvetica,sans-Serif\" font-size=\"14.00\" fill=\"#000000\">entropy = 0.0</text>\n<text text-anchor=\"middle\" x=\"1334.5\" y=\"-37.8\" font-family=\"Helvetica,sans-Serif\" font-size=\"14.00\" fill=\"#000000\">samples = 1</text>\n<text text-anchor=\"middle\" x=\"1334.5\" y=\"-22.8\" font-family=\"Helvetica,sans-Serif\" font-size=\"14.00\" fill=\"#000000\">value = [0, 1]</text>\n<text text-anchor=\"middle\" x=\"1334.5\" y=\"-7.8\" font-family=\"Helvetica,sans-Serif\" font-size=\"14.00\" fill=\"#000000\">class = 1</text>\n</g>\n<!-- 55&#45;&gt;57 -->\n<g id=\"edge57\" class=\"edge\">\n<title>55&#45;&gt;57</title>\n<path fill=\"none\" stroke=\"#000000\" d=\"M1297.4694,-103.9815C1302.0895,-95.2504 1306.9736,-86.0202 1311.626,-77.2281\"/>\n<polygon fill=\"#000000\" stroke=\"#000000\" points=\"1314.7859,-78.7395 1316.3694,-68.2637 1308.5987,-75.4655 1314.7859,-78.7395\"/>\n</g>\n<!-- 61 -->\n<g id=\"node62\" class=\"node\">\n<title>61</title>\n<path fill=\"#e58139\" stroke=\"#000000\" d=\"M928,-1250.5C928,-1250.5 851,-1250.5 851,-1250.5 845,-1250.5 839,-1244.5 839,-1238.5 839,-1238.5 839,-1194.5 839,-1194.5 839,-1188.5 845,-1182.5 851,-1182.5 851,-1182.5 928,-1182.5 928,-1182.5 934,-1182.5 940,-1188.5 940,-1194.5 940,-1194.5 940,-1238.5 940,-1238.5 940,-1244.5 934,-1250.5 928,-1250.5\"/>\n<text text-anchor=\"middle\" x=\"889.5\" y=\"-1235.3\" font-family=\"Helvetica,sans-Serif\" font-size=\"14.00\" fill=\"#000000\">entropy = 0.0</text>\n<text text-anchor=\"middle\" x=\"889.5\" y=\"-1220.3\" font-family=\"Helvetica,sans-Serif\" font-size=\"14.00\" fill=\"#000000\">samples = 8</text>\n<text text-anchor=\"middle\" x=\"889.5\" y=\"-1205.3\" font-family=\"Helvetica,sans-Serif\" font-size=\"14.00\" fill=\"#000000\">value = [8, 0]</text>\n<text text-anchor=\"middle\" x=\"889.5\" y=\"-1190.3\" font-family=\"Helvetica,sans-Serif\" font-size=\"14.00\" fill=\"#000000\">class = 0</text>\n</g>\n<!-- 60&#45;&gt;61 -->\n<g id=\"edge61\" class=\"edge\">\n<title>60&#45;&gt;61</title>\n<path fill=\"none\" stroke=\"#000000\" d=\"M889.5,-1293.8796C889.5,-1283.2134 889.5,-1271.7021 889.5,-1260.9015\"/>\n<polygon fill=\"#000000\" stroke=\"#000000\" points=\"893.0001,-1260.8149 889.5,-1250.8149 886.0001,-1260.815 893.0001,-1260.8149\"/>\n</g>\n<!-- 62 -->\n<g id=\"node63\" class=\"node\">\n<title>62</title>\n<path fill=\"#399de5\" stroke=\"#000000\" d=\"M1047,-1250.5C1047,-1250.5 970,-1250.5 970,-1250.5 964,-1250.5 958,-1244.5 958,-1238.5 958,-1238.5 958,-1194.5 958,-1194.5 958,-1188.5 964,-1182.5 970,-1182.5 970,-1182.5 1047,-1182.5 1047,-1182.5 1053,-1182.5 1059,-1188.5 1059,-1194.5 1059,-1194.5 1059,-1238.5 1059,-1238.5 1059,-1244.5 1053,-1250.5 1047,-1250.5\"/>\n<text text-anchor=\"middle\" x=\"1008.5\" y=\"-1235.3\" font-family=\"Helvetica,sans-Serif\" font-size=\"14.00\" fill=\"#000000\">entropy = 0.0</text>\n<text text-anchor=\"middle\" x=\"1008.5\" y=\"-1220.3\" font-family=\"Helvetica,sans-Serif\" font-size=\"14.00\" fill=\"#000000\">samples = 1</text>\n<text text-anchor=\"middle\" x=\"1008.5\" y=\"-1205.3\" font-family=\"Helvetica,sans-Serif\" font-size=\"14.00\" fill=\"#000000\">value = [0, 1]</text>\n<text text-anchor=\"middle\" x=\"1008.5\" y=\"-1190.3\" font-family=\"Helvetica,sans-Serif\" font-size=\"14.00\" fill=\"#000000\">class = 1</text>\n</g>\n<!-- 60&#45;&gt;62 -->\n<g id=\"edge62\" class=\"edge\">\n<title>60&#45;&gt;62</title>\n<path fill=\"none\" stroke=\"#000000\" d=\"M931.1204,-1293.8796C942.7763,-1282.2237 955.4413,-1269.5587 967.0852,-1257.9148\"/>\n<polygon fill=\"#000000\" stroke=\"#000000\" points=\"969.5889,-1260.3609 974.1851,-1250.8149 964.6391,-1255.4111 969.5889,-1260.3609\"/>\n</g>\n</g>\n</svg>\n"
          },
          "metadata": {
            "tags": []
          }
        }
      ]
    },
    {
      "cell_type": "markdown",
      "metadata": {
        "id": "ws-2w5vJRKWX"
      },
      "source": [
        "### 4. 결과 확인"
      ]
    },
    {
      "cell_type": "code",
      "metadata": {
        "id": "-_PL7K93RKWZ",
        "colab": {
          "base_uri": "https://localhost:8080/"
        },
        "outputId": "4c8c24cb-fe5e-481a-a2f5-d5a61d4b821b"
      },
      "source": [
        "# accuracy, f1 score, roc_auc score, confusion matrix, classification report를 모두 불러와주세요\n",
        "# 불러온 metric(결과 확인 지표)들을 통해 결과를 확인해주세요.\n",
        "\n",
        "from sklearn.metrics import accuracy_score, f1_score, roc_auc_score, confusion_matrix, classification_report\n",
        "y_pred = dt_clf.predict(X_test)\n",
        "\n",
        "print('Accuracy:: {}'.format(accuracy_score(y_test, y_pred)))\n",
        "print(\"F1 score: {}\".format(f1_score(y_test, y_pred)))\n",
        "print(\"ROC AUC Score: {}\".format(roc_auc_score(y_test, y_pred)))\n",
        "print(pd.DataFrame(confusion_matrix(y_test, y_pred)))\n",
        "print(classification_report(y_test, y_pred))"
      ],
      "execution_count": 42,
      "outputs": [
        {
          "output_type": "stream",
          "text": [
            "Accuracy:: 0.7837837837837838\n",
            "F1 score: 0.851851851851852\n",
            "ROC AUC Score: 0.71\n",
            "   0   1\n",
            "0  6   6\n",
            "1  2  23\n",
            "              precision    recall  f1-score   support\n",
            "\n",
            "           0       0.75      0.50      0.60        12\n",
            "           1       0.79      0.92      0.85        25\n",
            "\n",
            "    accuracy                           0.78        37\n",
            "   macro avg       0.77      0.71      0.73        37\n",
            "weighted avg       0.78      0.78      0.77        37\n",
            "\n"
          ],
          "name": "stdout"
        }
      ]
    },
    {
      "cell_type": "markdown",
      "metadata": {
        "id": "_i9YXT1fRKWf"
      },
      "source": [
        "### 5. GridSearch를 통한 Tree pruning"
      ]
    },
    {
      "cell_type": "code",
      "metadata": {
        "id": "q_ziTelKRKWg",
        "colab": {
          "base_uri": "https://localhost:8080/"
        },
        "outputId": "105139ae-24b6-4ac5-c781-a5d1f162df7b"
      },
      "source": [
        "# GridSearch를 위한 적절한 패키지를 불러와 주세요\n",
        "# max_leaf_nodes를 제외한 3가지 이상의 parameter에 대한 GridSearch를 진행해주세요. scoring은 원하시는 지표로 하셔도 됩니다.\n",
        "\n",
        "\n",
        "from sklearn.model_selection import GridSearchCV\n",
        "\n",
        "pruned_dt_dlf = DecisionTreeClassifier()\n",
        "\n",
        "criterion = ['gini', 'entropy']\n",
        "max_depth = [3,4,5,6,7]\n",
        "splitter = ['best', 'random']\n",
        "\n",
        "param_grid = {'criterion': criterion,\n",
        "                 'max_depth': max_depth,\n",
        "                 'splitter': splitter}\n",
        "\n",
        "grid_search = GridSearchCV(pruned_dt_dlf, param_grid, scoring = 'f1')\n",
        "grid_search.fit(X_train,y_train)"
      ],
      "execution_count": 43,
      "outputs": [
        {
          "output_type": "execute_result",
          "data": {
            "text/plain": [
              "GridSearchCV(cv=None, error_score=nan,\n",
              "             estimator=DecisionTreeClassifier(ccp_alpha=0.0, class_weight=None,\n",
              "                                              criterion='gini', max_depth=None,\n",
              "                                              max_features=None,\n",
              "                                              max_leaf_nodes=None,\n",
              "                                              min_impurity_decrease=0.0,\n",
              "                                              min_impurity_split=None,\n",
              "                                              min_samples_leaf=1,\n",
              "                                              min_samples_split=2,\n",
              "                                              min_weight_fraction_leaf=0.0,\n",
              "                                              presort='deprecated',\n",
              "                                              random_state=None,\n",
              "                                              splitter='best'),\n",
              "             iid='deprecated', n_jobs=None,\n",
              "             param_grid={'criterion': ['gini', 'entropy'],\n",
              "                         'max_depth': [3, 4, 5, 6, 7],\n",
              "                         'splitter': ['best', 'random']},\n",
              "             pre_dispatch='2*n_jobs', refit=True, return_train_score=False,\n",
              "             scoring='f1', verbose=0)"
            ]
          },
          "metadata": {
            "tags": []
          },
          "execution_count": 43
        }
      ]
    },
    {
      "cell_type": "code",
      "metadata": {
        "id": "gHV4QCsURKWk",
        "colab": {
          "base_uri": "https://localhost:8080/"
        },
        "outputId": "4a01e20f-0a67-45e3-e09c-a8c6ab534198"
      },
      "source": [
        "# 최적 parameter 조합 / Validation score / Test score를 확인해 주세요.\n",
        "print('GridSearch 최적 parameter: {}'.format(grid_search.best_params_),\n",
        "     'GridSearch Validation Score: {:.3f}'.format(grid_search.best_score_),\n",
        "     'GridSearch Test score: {:.3f}'.format(grid_search.score(X_test, y_test)), sep='\\n')\n"
      ],
      "execution_count": 44,
      "outputs": [
        {
          "output_type": "stream",
          "text": [
            "GridSearch 최적 parameter: {'criterion': 'entropy', 'max_depth': 6, 'splitter': 'best'}\n",
            "GridSearch Validation Score: 0.810\n",
            "GridSearch Test score: 0.875\n"
          ],
          "name": "stdout"
        }
      ]
    },
    {
      "cell_type": "code",
      "metadata": {
        "id": "IclVorZpRKWp"
      },
      "source": [
        "'''\n",
        "GridSearch에 사용한 parameter가 Decision Tree 모델 학습에서 어떤 역할?\n",
        "\n",
        "DecisionTreeClassifier() criterion : decision tree의 분류 기준인 불순도 지표를 정한다. (default = gini)\n",
        "\n",
        "max_features : 최적의 분할을 위해 고려할 최대 feature 개수\n",
        "\n",
        "max_depth : tree의 최대 깊이\n",
        "default = None 완벽하게 Class 값이 결정될 때까지 분할하거나 데이터의 개수가 min_sample_split 보다 작아질 때까지 분할\n",
        "분류가 끝나지 않았더라도 노드가 max_depth이상으로 분할되지 않음\n",
        "\n",
        "min_sample_split : 분할 전 최소한의 샘플 수 \n",
        "default = 2 → 작게 설정할 수록 분할 노드가 많아져 과적합 가능성 증가\n",
        "\n",
        "splitter: 각 node를 분리하는 데 사용되는 방법 (default = best, ['best', 'random']이 존재)\n",
        "\n",
        "min_samples_leaf : 리프 노드가 되기 위한 최소한의 샘플 수\n",
        "min_samples_split과 함께 과적합 제어 용도\n",
        "이것보다 샘플 수가 낮으면 leaf로 확정되고 더이상 분할하지 않음\n",
        "불균형 데이터의 경우 특정 클래스의 데이터가 극도로 작을 수 있으므로 작게 설정 필요\n",
        "\n",
        "\n",
        "###reference : https://injo.tistory.com/15 ###\n",
        "\n",
        "'''\n"
      ],
      "execution_count": null,
      "outputs": []
    }
  ]
}